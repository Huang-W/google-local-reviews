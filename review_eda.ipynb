{
 "cells": [
  {
   "cell_type": "code",
   "execution_count": 1,
   "metadata": {},
   "outputs": [],
   "source": [
    "import warnings\n",
    "warnings.simplefilter(action='ignore', category=FutureWarning)\n",
    "import numpy as np\n",
    "import scipy as sp\n",
    "import pandas as pd\n",
    "import sklearn as sk\n",
    "import matplotlib as mpl\n",
    "import matplotlib.pylab as plt\n",
    "import matplotlib.font_manager as fm\n",
    "from mpl_toolkits.mplot3d import Axes3D\n",
    "import seaborn as sns\n",
    "sns.set(rc={'figure.figsize':(13.7,10.27)})\n",
    "sns.set_style(\"whitegrid\")\n",
    "sns.set_color_codes()"
   ]
  },
  {
   "cell_type": "code",
   "execution_count": 2,
   "metadata": {},
   "outputs": [],
   "source": [
    "from dask.distributed import Client\n",
    "import dask.bag as db\n",
    "import dask.dataframe as dd\n",
    "import dask\n",
    "\n",
    "from ast import literal_eval\n",
    "from collections import MutableMapping\n",
    "import dask.array as da\n",
    "# import h5py\n",
    "import os"
   ]
  },
  {
   "cell_type": "code",
   "execution_count": 4,
   "metadata": {},
   "outputs": [
    {
     "name": "stderr",
     "output_type": "stream",
     "text": [
      "/home/ej/github/cmpe256-team4/cmpe256-team4/lib/python3.6/site-packages/distributed/node.py:155: UserWarning: Port 8787 is already in use.\n",
      "Perhaps you already have a cluster running?\n",
      "Hosting the HTTP server on port 41835 instead\n",
      "  http_address[\"port\"], self.http_server.port\n"
     ]
    }
   ],
   "source": [
    "client = Client(n_workers=8)"
   ]
  },
  {
   "cell_type": "code",
   "execution_count": 5,
   "metadata": {},
   "outputs": [
    {
     "data": {
      "text/html": [
       "<table style=\"border: 2px solid white;\">\n",
       "<tr>\n",
       "<td style=\"vertical-align: top; border: 0px solid white\">\n",
       "<h3 style=\"text-align: left;\">Client</h3>\n",
       "<ul style=\"text-align: left; list-style: none; margin: 0; padding: 0;\">\n",
       "  <li><b>Scheduler: </b>tcp://127.0.0.1:37043</li>\n",
       "  <li><b>Dashboard: </b><a href='http://127.0.0.1:41835/status' target='_blank'>http://127.0.0.1:41835/status</a></li>\n",
       "</ul>\n",
       "</td>\n",
       "<td style=\"vertical-align: top; border: 0px solid white\">\n",
       "<h3 style=\"text-align: left;\">Cluster</h3>\n",
       "<ul style=\"text-align: left; list-style:none; margin: 0; padding: 0;\">\n",
       "  <li><b>Workers: </b>8</li>\n",
       "  <li><b>Cores: </b>16</li>\n",
       "  <li><b>Memory: </b>33.65 GB</li>\n",
       "</ul>\n",
       "</td>\n",
       "</tr>\n",
       "</table>"
      ],
      "text/plain": [
       "<Client: 'tcp://127.0.0.1:37043' processes=8 threads=16, memory=33.65 GB>"
      ]
     },
     "execution_count": 5,
     "metadata": {},
     "output_type": "execute_result"
    }
   ],
   "source": [
    "client"
   ]
  },
  {
   "cell_type": "code",
   "execution_count": null,
   "metadata": {},
   "outputs": [],
   "source": [
    "from ast import literal_eval\n",
    "from collections import MutableMapping\n",
    "\n",
    "b = db.read_text(\"data/reviews.clean.json\", blocksize=\"64MiB\")"
   ]
  },
  {
   "cell_type": "code",
   "execution_count": 6,
   "metadata": {},
   "outputs": [],
   "source": [
    "def drop_cols(obj):\n",
    "    obj.pop('reviewerName')\n",
    "    obj.pop('reviewText')\n",
    "    obj.pop('unixReviewTime')\n",
    "    obj.pop('reviewTime')\n",
    "    \n",
    "    return obj"
   ]
  },
  {
   "cell_type": "code",
   "execution_count": 7,
   "metadata": {},
   "outputs": [],
   "source": [
    "def extract_restaurant_and_pub(obj):\n",
    "    if obj[\"categories\"]:\n",
    "        for cat in obj[\"categories\"]:\n",
    "            if \"Restaurant\" in cat or \"Pub\" in cat or \"Bar\" in cat:\n",
    "                return 1\n",
    "    return 0"
   ]
  },
  {
   "cell_type": "code",
   "execution_count": 8,
   "metadata": {},
   "outputs": [],
   "source": [
    "df = b.map(literal_eval).map(drop_cols).to_dataframe().repartition(npartitions=240)"
   ]
  },
  {
   "cell_type": "code",
   "execution_count": null,
   "metadata": {},
   "outputs": [],
   "source": [
    "df.dropna(subset=['price', 'address']).drop(columns=['name','hours','gps','phone','closed'])"
   ]
  },
  {
   "cell_type": "code",
   "execution_count": 1,
   "metadata": {},
   "outputs": [],
   "source": [
    "# # Extract reviews only whose categories are related to Restaurants, Pubs, or Bars\n",
    "# df[\"target\"] = df.loc[:, [\"categories\"]].apply(extract_restaurant_and_pub, axis=1)\n",
    "# df[(df[\"rating\"].notnull()) & (df[\"target\"]==1)].drop([\"target\"], axis=1).to_csv(\"only_restaurants_review.csv\", index=False)"
   ]
  },
  {
   "cell_type": "code",
   "execution_count": 9,
   "metadata": {},
   "outputs": [],
   "source": [
    "only_restaurants = dd.read_csv('only_restaurants_review.csv/*.part', blocksize='64MiB')"
   ]
  },
  {
   "cell_type": "code",
   "execution_count": 11,
   "metadata": {},
   "outputs": [
    {
     "data": {
      "text/plain": [
       "0       4.0\n",
       "1       5.0\n",
       "2       5.0\n",
       "3       4.0\n",
       "4       5.0\n",
       "       ... \n",
       "2428    2.0\n",
       "2429    2.0\n",
       "2430    4.0\n",
       "2431    1.0\n",
       "2432    1.0\n",
       "Name: rating, Length: 4170168, dtype: float64"
      ]
     },
     "execution_count": 11,
     "metadata": {},
     "output_type": "execute_result"
    }
   ],
   "source": [
    "only_restaurants[\"rating\"].compute()"
   ]
  },
  {
   "cell_type": "code",
   "execution_count": null,
   "metadata": {},
   "outputs": [],
   "source": []
  },
  {
   "cell_type": "code",
   "execution_count": 11,
   "metadata": {},
   "outputs": [
    {
     "data": {
      "text/plain": [
       "5.0    5722956\n",
       "4.0    2689692\n",
       "3.0    1510797\n",
       "2.0     921153\n",
       "1.0     609203\n",
       "0.0         44\n",
       "Name: rating, dtype: int64"
      ]
     },
     "execution_count": 11,
     "metadata": {},
     "output_type": "execute_result"
    }
   ],
   "source": [
    "partial_df[\"rating\"].value_counts()"
   ]
  },
  {
   "cell_type": "code",
   "execution_count": 41,
   "metadata": {},
   "outputs": [
    {
     "data": {
      "text/plain": [
       "<AxesSubplot:xlabel='rating', ylabel='Count'>"
      ]
     },
     "execution_count": 41,
     "metadata": {},
     "output_type": "execute_result"
    },
    {
     "data": {
      "image/png": "[encoded data removed]",
      "text/plain": [
       "<Figure size 842.4x595.44 with 1 Axes>"
      ]
     },
     "metadata": {},
     "output_type": "display_data"
    }
   ],
   "source": [
    "sns.histplot(partial_df, x=\"rating\")"
   ]
  },
  {
   "cell_type": "code",
   "execution_count": 37,
   "metadata": {},
   "outputs": [],
   "source": []
  },
  {
   "cell_type": "code",
   "execution_count": 38,
   "metadata": {},
   "outputs": [],
   "source": [
    "# ReviewTime to Season, recent(<1, 2> )\n",
    "# unixReviewTime to day-open, 24/7 etc\n",
    "# Display reviews histogram by timezone (morning ,lunch, afternoon, dinner etc)"
   ]
  },
  {
   "cell_type": "code",
   "execution_count": 44,
   "metadata": {},
   "outputs": [],
   "source": [
    "category = {}\n",
    "def count_cat(obj):\n",
    "    if obj[\"categories\"]:\n",
    "        for cat in obj[\"categories\"]:\n",
    "            category[cat] = category.get(cat, 0) + 1\n",
    "    return obj"
   ]
  },
  {
   "cell_type": "code",
   "execution_count": 46,
   "metadata": {},
   "outputs": [
    {
     "name": "stderr",
     "output_type": "stream",
     "text": [
      "/home/ej/github/cmpe256-team4/cmpe256-team4/lib/python3.6/site-packages/dask/dataframe/core.py:4338: UserWarning: \n",
      "You did not provide metadata, so Dask is running your function on a small dataset to guess output types. It is possible that Dask will guess incorrectly.\n",
      "To provide an explicit output types or to silence this message, please provide the `meta=` keyword, as described in the map or apply function that you are using.\n",
      "  Before: .apply(func)\n",
      "  After:  .apply(func, meta={'rating': 'float64', 'categories': 'object', 'gPlusPlaceId': 'object', 'gPlusUserId': 'object'})\n",
      "\n",
      "  warnings.warn(meta_warning(meta))\n"
     ]
    },
    {
     "data": {
      "text/html": [
       "<div>\n",
       "<style scoped>\n",
       "    .dataframe tbody tr th:only-of-type {\n",
       "        vertical-align: middle;\n",
       "    }\n",
       "\n",
       "    .dataframe tbody tr th {\n",
       "        vertical-align: top;\n",
       "    }\n",
       "\n",
       "    .dataframe thead th {\n",
       "        text-align: right;\n",
       "    }\n",
       "</style>\n",
       "<table border=\"1\" class=\"dataframe\">\n",
       "  <thead>\n",
       "    <tr style=\"text-align: right;\">\n",
       "      <th></th>\n",
       "      <th>rating</th>\n",
       "      <th>categories</th>\n",
       "      <th>gPlusPlaceId</th>\n",
       "      <th>gPlusUserId</th>\n",
       "    </tr>\n",
       "  </thead>\n",
       "  <tbody>\n",
       "    <tr>\n",
       "      <th>0</th>\n",
       "      <td>3.0</td>\n",
       "      <td>[Giải Trí - Café]</td>\n",
       "      <td>108103314380004200232</td>\n",
       "      <td>100000010817154263736</td>\n",
       "    </tr>\n",
       "    <tr>\n",
       "      <th>1</th>\n",
       "      <td>5.0</td>\n",
       "      <td>[Turkish Cuisine]</td>\n",
       "      <td>102194128241608748649</td>\n",
       "      <td>100000013500285534661</td>\n",
       "    </tr>\n",
       "    <tr>\n",
       "      <th>2</th>\n",
       "      <td>5.0</td>\n",
       "      <td>[Fishing, Pond Fish Supplier, Seafood Market]</td>\n",
       "      <td>101409858828175402384</td>\n",
       "      <td>100000021336848867366</td>\n",
       "    </tr>\n",
       "    <tr>\n",
       "      <th>3</th>\n",
       "      <td>5.0</td>\n",
       "      <td>[Museum]</td>\n",
       "      <td>101477177500158511502</td>\n",
       "      <td>100000021336848867366</td>\n",
       "    </tr>\n",
       "    <tr>\n",
       "      <th>4</th>\n",
       "      <td>4.0</td>\n",
       "      <td>[Police]</td>\n",
       "      <td>106994170641063333085</td>\n",
       "      <td>100000021336848867366</td>\n",
       "    </tr>\n",
       "    <tr>\n",
       "      <th>...</th>\n",
       "      <td>...</td>\n",
       "      <td>...</td>\n",
       "      <td>...</td>\n",
       "      <td>...</td>\n",
       "    </tr>\n",
       "    <tr>\n",
       "      <th>90517</th>\n",
       "      <td>4.0</td>\n",
       "      <td>[School]</td>\n",
       "      <td>110302363754248466279</td>\n",
       "      <td>118446743512419806874</td>\n",
       "    </tr>\n",
       "    <tr>\n",
       "      <th>90518</th>\n",
       "      <td>4.0</td>\n",
       "      <td>[Lodging]</td>\n",
       "      <td>110811510477289064667</td>\n",
       "      <td>118446743512419806874</td>\n",
       "    </tr>\n",
       "    <tr>\n",
       "      <th>90519</th>\n",
       "      <td>5.0</td>\n",
       "      <td>[Medical Center]</td>\n",
       "      <td>114800547590362276647</td>\n",
       "      <td>118446743512419806874</td>\n",
       "    </tr>\n",
       "    <tr>\n",
       "      <th>90520</th>\n",
       "      <td>5.0</td>\n",
       "      <td>None</td>\n",
       "      <td>106919006909432779494</td>\n",
       "      <td>118446743745545869532</td>\n",
       "    </tr>\n",
       "    <tr>\n",
       "      <th>90521</th>\n",
       "      <td>5.0</td>\n",
       "      <td>None</td>\n",
       "      <td>113946086129558139292</td>\n",
       "      <td>118446743745545869532</td>\n",
       "    </tr>\n",
       "  </tbody>\n",
       "</table>\n",
       "<p>11453845 rows × 4 columns</p>\n",
       "</div>"
      ],
      "text/plain": [
       "       rating                                     categories  \\\n",
       "0         3.0                              [Giải Trí - Café]   \n",
       "1         5.0                              [Turkish Cuisine]   \n",
       "2         5.0  [Fishing, Pond Fish Supplier, Seafood Market]   \n",
       "3         5.0                                       [Museum]   \n",
       "4         4.0                                       [Police]   \n",
       "...       ...                                            ...   \n",
       "90517     4.0                                       [School]   \n",
       "90518     4.0                                      [Lodging]   \n",
       "90519     5.0                               [Medical Center]   \n",
       "90520     5.0                                           None   \n",
       "90521     5.0                                           None   \n",
       "\n",
       "                gPlusPlaceId            gPlusUserId  \n",
       "0      108103314380004200232  100000010817154263736  \n",
       "1      102194128241608748649  100000013500285534661  \n",
       "2      101409858828175402384  100000021336848867366  \n",
       "3      101477177500158511502  100000021336848867366  \n",
       "4      106994170641063333085  100000021336848867366  \n",
       "...                      ...                    ...  \n",
       "90517  110302363754248466279  118446743512419806874  \n",
       "90518  110811510477289064667  118446743512419806874  \n",
       "90519  114800547590362276647  118446743512419806874  \n",
       "90520  106919006909432779494  118446743745545869532  \n",
       "90521  113946086129558139292  118446743745545869532  \n",
       "\n",
       "[11453845 rows x 4 columns]"
      ]
     },
     "execution_count": 46,
     "metadata": {},
     "output_type": "execute_result"
    }
   ],
   "source": [
    "df.apply(count_cat, axis=1).compute()"
   ]
  },
  {
   "cell_type": "code",
   "execution_count": 48,
   "metadata": {},
   "outputs": [
    {
     "data": {
      "text/plain": [
       "Index(['Restaurant', 'Hotel', 'European Restaurant', 'Asian Restaurant',\n",
       "       'American Restaurant', 'Italian Restaurant', 'Bar', 'Pizza Restaurant',\n",
       "       'Fast Food Restaurant', 'Cafe',\n",
       "       ...\n",
       "       'Car Rental', 'Accountant', 'Real Estate Agents', 'Bus Station',\n",
       "       'Box Lunch Supplier', 'Landmark', 'Cottage', 'Siding Contractor',\n",
       "       'Continental Restaurant', 'Trial Attorney'],\n",
       "      dtype='object', length=735)"
      ]
     },
     "execution_count": 48,
     "metadata": {},
     "output_type": "execute_result"
    }
   ],
   "source": [
    "# Display most popular food genre by count\n",
    "# e.g. American, Mexican, SeaFood etc\n",
    "count = pd.Series(category).sort_values(ascending=False)\n",
    "count[count >= 1000].index"
   ]
  },
  {
   "cell_type": "code",
   "execution_count": 49,
   "metadata": {},
   "outputs": [
    {
     "data": {
      "text/plain": [
       "Index(['Watch Repair Service', 'Manufacturing, Mining...', 'Ethnic Restaurant',\n",
       "       'Banking and Finance', 'Appliance Parts Supplier',\n",
       "       'Pain Management Physician', 'Glass Repair Service',\n",
       "       'Children's Museum', 'Recycling Center', 'Computer Software Store',\n",
       "       ...\n",
       "       'Burglar Alarm Store', 'Tourism', 'Furniture Maker',\n",
       "       'Lawn Sprinkler System...', 'Airport Terminal',\n",
       "       'North African Restaurant', 'Tour Operator', 'Police Station',\n",
       "       'Perfume Store', 'Alcoholism Treatment Program'],\n",
       "      dtype='object', length=330)"
      ]
     },
     "execution_count": 49,
     "metadata": {},
     "output_type": "execute_result"
    }
   ],
   "source": [
    "count[(1000>count) & (count>500)].index"
   ]
  },
  {
   "cell_type": "code",
   "execution_count": 50,
   "metadata": {},
   "outputs": [
    {
     "data": {
      "text/plain": [
       "Index(['Restaurant', 'Hotel', 'European Restaurant', 'Asian Restaurant',\n",
       "       'American Restaurant', 'Italian Restaurant', 'Bar', 'Pizza Restaurant',\n",
       "       'Fast Food Restaurant', 'Cafe',\n",
       "       ...\n",
       "       'Tourism', 'Furniture Maker', 'Lawn Sprinkler System...',\n",
       "       'Airport Terminal', 'North African Restaurant', 'Tour Operator',\n",
       "       'Police Station', 'Perfume Store', 'Alcoholism Treatment Program',\n",
       "       'Digital Printer'],\n",
       "      dtype='object', length=1066)"
      ]
     },
     "execution_count": 50,
     "metadata": {},
     "output_type": "execute_result"
    }
   ],
   "source": [
    "count[count >= 500].index"
   ]
  },
  {
   "cell_type": "code",
   "execution_count": 60,
   "metadata": {},
   "outputs": [
    {
     "data": {
      "text/plain": [
       "European Restaurant          185781\n",
       "Asian Restaurant             167235\n",
       "American Restaurant          152835\n",
       "Italian Restaurant           149581\n",
       "Bar                          128797\n",
       "Pizza Restaurant             118426\n",
       "Fast Food Restaurant         108483\n",
       "Chinese Restaurant            78273\n",
       "Mexican Restaurant            76122\n",
       "Latin American Restaurant     65214\n",
       "Seafood Restaurant            57554\n",
       "Hamburger Restaurant          55097\n",
       "Japanese Restaurant           54346\n",
       "Pub                           50901\n",
       "dtype: int64"
      ]
     },
     "execution_count": 60,
     "metadata": {},
     "output_type": "execute_result"
    }
   ],
   "source": [
    "category_series = pd.Series(category)\n",
    "restaurants = category_series[category_series.index.str.contains(\"Restaurant\") | category_series.index.str.contains(\"Bar\") | category_series.index.str.contains(\"Pub\") ].sort_values(ascending=False)\n",
    "restaurants.drop([\"Restaurant\"], inplace=True)\n",
    "populars = restaurants[restaurants > 50000]\n",
    "populars"
   ]
  },
  {
   "cell_type": "code",
   "execution_count": 61,
   "metadata": {},
   "outputs": [
    {
     "data": {
      "text/html": [
       "<div>\n",
       "<style scoped>\n",
       "    .dataframe tbody tr th:only-of-type {\n",
       "        vertical-align: middle;\n",
       "    }\n",
       "\n",
       "    .dataframe tbody tr th {\n",
       "        vertical-align: top;\n",
       "    }\n",
       "\n",
       "    .dataframe thead th {\n",
       "        text-align: right;\n",
       "    }\n",
       "</style>\n",
       "<table border=\"1\" class=\"dataframe\">\n",
       "  <thead>\n",
       "    <tr style=\"text-align: right;\">\n",
       "      <th></th>\n",
       "      <th>genre</th>\n",
       "      <th>count</th>\n",
       "    </tr>\n",
       "  </thead>\n",
       "  <tbody>\n",
       "    <tr>\n",
       "      <th>0</th>\n",
       "      <td>European</td>\n",
       "      <td>185781</td>\n",
       "    </tr>\n",
       "    <tr>\n",
       "      <th>1</th>\n",
       "      <td>Asian</td>\n",
       "      <td>167235</td>\n",
       "    </tr>\n",
       "    <tr>\n",
       "      <th>2</th>\n",
       "      <td>American</td>\n",
       "      <td>152835</td>\n",
       "    </tr>\n",
       "    <tr>\n",
       "      <th>3</th>\n",
       "      <td>Italian</td>\n",
       "      <td>149581</td>\n",
       "    </tr>\n",
       "    <tr>\n",
       "      <th>4</th>\n",
       "      <td>Bar</td>\n",
       "      <td>128797</td>\n",
       "    </tr>\n",
       "    <tr>\n",
       "      <th>5</th>\n",
       "      <td>Pizza</td>\n",
       "      <td>118426</td>\n",
       "    </tr>\n",
       "    <tr>\n",
       "      <th>6</th>\n",
       "      <td>Fast Food</td>\n",
       "      <td>108483</td>\n",
       "    </tr>\n",
       "    <tr>\n",
       "      <th>7</th>\n",
       "      <td>Chinese</td>\n",
       "      <td>78273</td>\n",
       "    </tr>\n",
       "    <tr>\n",
       "      <th>8</th>\n",
       "      <td>Mexican</td>\n",
       "      <td>76122</td>\n",
       "    </tr>\n",
       "    <tr>\n",
       "      <th>9</th>\n",
       "      <td>Latin American</td>\n",
       "      <td>65214</td>\n",
       "    </tr>\n",
       "    <tr>\n",
       "      <th>10</th>\n",
       "      <td>Seafood</td>\n",
       "      <td>57554</td>\n",
       "    </tr>\n",
       "    <tr>\n",
       "      <th>11</th>\n",
       "      <td>Hamburger</td>\n",
       "      <td>55097</td>\n",
       "    </tr>\n",
       "    <tr>\n",
       "      <th>12</th>\n",
       "      <td>Japanese</td>\n",
       "      <td>54346</td>\n",
       "    </tr>\n",
       "    <tr>\n",
       "      <th>13</th>\n",
       "      <td>Pub</td>\n",
       "      <td>50901</td>\n",
       "    </tr>\n",
       "  </tbody>\n",
       "</table>\n",
       "</div>"
      ],
      "text/plain": [
       "              genre   count\n",
       "0         European   185781\n",
       "1            Asian   167235\n",
       "2         American   152835\n",
       "3          Italian   149581\n",
       "4               Bar  128797\n",
       "5            Pizza   118426\n",
       "6        Fast Food   108483\n",
       "7          Chinese    78273\n",
       "8          Mexican    76122\n",
       "9   Latin American    65214\n",
       "10         Seafood    57554\n",
       "11       Hamburger    55097\n",
       "12        Japanese    54346\n",
       "13              Pub   50901"
      ]
     },
     "execution_count": 61,
     "metadata": {},
     "output_type": "execute_result"
    }
   ],
   "source": [
    "pd_df = pd.DataFrame(data={\n",
    "    \"genre\": populars.index.map(lambda x: x.replace(\"Restaurant\", \"\")),\n",
    "    \"count\": populars.values\n",
    "})\n",
    "pd_df"
   ]
  },
  {
   "cell_type": "code",
   "execution_count": 62,
   "metadata": {},
   "outputs": [
    {
     "data": {
      "text/plain": [
       "<AxesSubplot:xlabel='count', ylabel='genre'>"
      ]
     },
     "execution_count": 62,
     "metadata": {},
     "output_type": "execute_result"
    },
    {
     "data": {
      "image/png": "[encoded data removed]",
      "text/plain": [
       "<Figure size 986.4x739.44 with 1 Axes>"
      ]
     },
     "metadata": {},
     "output_type": "display_data"
    }
   ],
   "source": [
    "sns.barplot(y=\"genre\", x=\"count\", data=pd_df, capsize=.2)"
   ]
  },
  {
   "cell_type": "code",
   "execution_count": null,
   "metadata": {},
   "outputs": [],
   "source": []
  },
  {
   "cell_type": "code",
   "execution_count": 34,
   "metadata": {},
   "outputs": [],
   "source": [
    "# Idea 1\n",
    "# Row = User\n",
    "# Col = Place Category (not each restaurant)\n",
    "# If certain category is recommended, then choose one of restaurants with the category?\n",
    "# (or make another recommender system within the category...?)"
   ]
  },
  {
   "cell_type": "code",
   "execution_count": 35,
   "metadata": {},
   "outputs": [],
   "source": [
    "# Idea2\n",
    "# Col = Each Restaurant (too many?)"
   ]
  },
  {
   "cell_type": "code",
   "execution_count": null,
   "metadata": {},
   "outputs": [],
   "source": [
    "# Idea3\n",
    "# Col = Restaurant&Food&Grocery, Movie&Cinema&Opera, Soccer&BasketBall&gym&Swimming, Shopping, Cafe"
   ]
  },
  {
   "cell_type": "code",
   "execution_count": null,
   "metadata": {},
   "outputs": [],
   "source": [
    "# Idea4\n",
    "# Feature\n",
    "# 1. Quality Place = rating >= 4 or 5 (by join and aggregate)\n",
    "# 2. Popular Place = # of reviews > N\n",
    "# 3. Quiet Place = else\n",
    "# 4. Only Open at Day? or All Day?\n",
    "# 5. Near the beach? ( by GPS )\n",
    "\n",
    "# Exclude Places whose ratings are under 2?\n",
    "\n",
    "# How to reflect features \n",
    "# other than user and places into recommender system?\n",
    "# => Content Based (e.g. Day? night? and food \"Genre\"s)"
   ]
  }
 ],
 "metadata": {
  "kernelspec": {
   "display_name": "cmpe256-prgm1",
   "language": "python",
   "name": "cmpe256-prgm1"
  },
  "language_info": {
   "codemirror_mode": {
    "name": "ipython",
    "version": 3
   },
   "file_extension": ".py",
   "mimetype": "text/x-python",
   "name": "python",
   "nbconvert_exporter": "python",
   "pygments_lexer": "ipython3",
   "version": "3.6.7"
  }
 },
 "nbformat": 4,
 "nbformat_minor": 4
}
