{
 "cells": [
  {
   "cell_type": "code",
   "execution_count": 109,
   "metadata": {},
   "outputs": [],
   "source": [
    "import warnings\n",
    "warnings.simplefilter(action='ignore', category=FutureWarning)\n",
    "import numpy as np\n",
    "import scipy as sp\n",
    "import pandas as pd\n",
    "import sklearn as sk\n",
    "import matplotlib as mpl\n",
    "import matplotlib.pylab as plt\n",
    "import matplotlib.font_manager as fm\n",
    "from mpl_toolkits.mplot3d import Axes3D\n",
    "import seaborn as sns\n",
    "sns.set(rc={'figure.figsize':(11.7,8.27)})\n",
    "sns.set_style(\"whitegrid\")\n",
    "sns.set_color_codes()"
   ]
  },
  {
   "cell_type": "code",
   "execution_count": 2,
   "metadata": {},
   "outputs": [],
   "source": [
    "from dask.distributed import Client\n",
    "import dask.bag as db\n",
    "import dask.dataframe as dd\n",
    "import dask\n",
    "\n",
    "from ast import literal_eval\n",
    "from collections import MutableMapping\n",
    "import dask.array as da\n",
    "import h5py\n",
    "import os"
   ]
  },
  {
   "cell_type": "code",
   "execution_count": 3,
   "metadata": {},
   "outputs": [],
   "source": [
    "client = Client(n_workers=4)"
   ]
  },
  {
   "cell_type": "code",
   "execution_count": 4,
   "metadata": {},
   "outputs": [
    {
     "data": {
      "text/html": [
       "<table style=\"border: 2px solid white;\">\n",
       "<tr>\n",
       "<td style=\"vertical-align: top; border: 0px solid white\">\n",
       "<h3 style=\"text-align: left;\">Client</h3>\n",
       "<ul style=\"text-align: left; list-style: none; margin: 0; padding: 0;\">\n",
       "  <li><b>Scheduler: </b>tcp://127.0.0.1:34919</li>\n",
       "  <li><b>Dashboard: </b><a href='http://127.0.0.1:8787/status' target='_blank'>http://127.0.0.1:8787/status</a></li>\n",
       "</ul>\n",
       "</td>\n",
       "<td style=\"vertical-align: top; border: 0px solid white\">\n",
       "<h3 style=\"text-align: left;\">Cluster</h3>\n",
       "<ul style=\"text-align: left; list-style:none; margin: 0; padding: 0;\">\n",
       "  <li><b>Workers: </b>4</li>\n",
       "  <li><b>Cores: </b>8</li>\n",
       "  <li><b>Memory: </b>16.69 GB</li>\n",
       "</ul>\n",
       "</td>\n",
       "</tr>\n",
       "</table>"
      ],
      "text/plain": [
       "<Client: 'tcp://127.0.0.1:34919' processes=4 threads=8, memory=16.69 GB>"
      ]
     },
     "execution_count": 4,
     "metadata": {},
     "output_type": "execute_result"
    }
   ],
   "source": [
    "client"
   ]
  },
  {
   "cell_type": "code",
   "execution_count": 5,
   "metadata": {},
   "outputs": [
    {
     "name": "stdout",
     "output_type": "stream",
     "text": [
      "CPU times: user 19.9 s, sys: 1.25 s, total: 21.2 s\n",
      "Wall time: 20.3 s\n"
     ]
    },
    {
     "data": {
      "text/plain": [
       "array([10.00058862, 10.00110813,  9.9990757 , 10.00156842,  9.99928966,\n",
       "        9.99973506, 10.00004145,  9.99907583,  9.99954927,  9.99902972,\n",
       "        9.99934156,  9.99935875, 10.00084661, 10.00133033,  9.99997901,\n",
       "       10.00070405, 10.00053846,  9.99885989, 10.00012562,  9.99922648,\n",
       "       10.00015133,  9.99980854,  9.99985813, 10.00036136, 10.00000706,\n",
       "        9.99981655, 10.00086596, 10.00026158, 10.00051063,  9.99997737,\n",
       "        9.99876422, 10.00007888, 10.00039049, 10.00118176,  9.99966206,\n",
       "        9.99921081, 10.00014947,  9.99925942,  9.99995675, 10.00054786,\n",
       "       10.00026263,  9.99919192,  9.99979648,  9.99916936, 10.00035401,\n",
       "       10.00023143, 10.00108407,  9.99975369, 10.00075536,  9.99860005,\n",
       "        9.99957046, 10.00005153, 10.00016386,  9.99870897, 10.0003976 ,\n",
       "        9.99954827, 10.00033737, 10.00070425, 10.00127602,  9.99946029,\n",
       "       10.00004861,  9.99946362, 10.0007994 , 10.001046  ,  9.99976748,\n",
       "       10.00024311,  9.99927836, 10.00047757, 10.00023818,  9.99917089,\n",
       "       10.00040959, 10.0016538 , 10.00066946,  9.99992919, 10.00052658,\n",
       "        9.99906612,  9.99998454, 10.00000508, 10.00016833,  9.99910528,\n",
       "        9.99978242,  9.99984341, 10.00064537, 10.00016144, 10.00020324,\n",
       "        9.99996859, 10.00048187, 10.00121552,  9.99860172, 10.00117905,\n",
       "       10.00016589, 10.00034024, 10.00074341,  9.99909786,  9.99989718,\n",
       "       10.00076879,  9.99949204,  9.9993503 , 10.00137905, 10.00022321,\n",
       "       10.00062303, 10.00054031,  9.99989102, 10.00080887,  9.99967438,\n",
       "        9.99946783,  9.99862701, 10.00068028,  9.99936614,  9.99913688,\n",
       "        9.99942552,  9.99860333,  9.99990015, 10.00056522,  9.99924805,\n",
       "       10.00057439, 10.00006742, 10.00060997, 10.00053277, 10.00047582,\n",
       "        9.99949797,  9.99993558,  9.99908549,  9.99885469, 10.0001824 ,\n",
       "       10.00033477,  9.99931667, 10.00015305,  9.99887488, 10.00070179,\n",
       "        9.99896024,  9.99900963,  9.99935075,  9.99987432,  9.99996843,\n",
       "       10.00040673, 10.00083545, 10.0000146 , 10.00072481, 10.00036987,\n",
       "       10.00052312, 10.0000805 , 10.00026025,  9.99890951,  9.99895827,\n",
       "        9.99985099, 10.00046301,  9.99936281, 10.0005876 , 10.00028921,\n",
       "       10.00032253, 10.00086306, 10.00021234, 10.0001491 , 10.0004786 ,\n",
       "        9.99807583, 10.00075978,  9.99926165,  9.999642  ,  9.99849247,\n",
       "       10.001033  , 10.00031708,  9.99978008, 10.00080095,  9.99917172,\n",
       "       10.00091225, 10.00073974, 10.000315  ,  9.99999191,  9.99951196,\n",
       "        9.99973947, 10.00005987, 10.0003812 , 10.00038366, 10.00063362,\n",
       "        9.99993419,  9.99912252, 10.00125229,  9.99939127,  9.99984725,\n",
       "        9.99976011,  9.99973941,  9.99835172,  9.99995806, 10.00010448,\n",
       "        9.99834303,  9.99905987, 10.00032831,  9.99974104, 10.00106846,\n",
       "       10.0002578 , 10.00000109,  9.99973038, 10.00033677,  9.99992182,\n",
       "       10.00181406, 10.00090853, 10.00019248, 10.00030718,  9.99849733])"
      ]
     },
     "execution_count": 5,
     "metadata": {},
     "output_type": "execute_result"
    }
   ],
   "source": [
    "%%time \n",
    "x = np.random.normal(10, 0.1, size=(20000, 20000)) \n",
    "y = x.mean(axis=0)[::100] \n",
    "y"
   ]
  },
  {
   "cell_type": "code",
   "execution_count": 6,
   "metadata": {},
   "outputs": [
    {
     "name": "stdout",
     "output_type": "stream",
     "text": [
      "CPU times: user 1.43 s, sys: 139 ms, total: 1.57 s\n",
      "Wall time: 4.93 s\n"
     ]
    },
    {
     "data": {
      "text/plain": [
       "array([ 9.99904554,  9.99983628, 10.00098045, 10.00083689, 10.00011183,\n",
       "       10.00126837,  9.99952446, 10.00044093,  9.99979992, 10.00105513,\n",
       "        9.99914172, 10.00034604, 10.00078958,  9.99963627,  9.99972019,\n",
       "       10.00070064,  9.99832957, 10.00091053, 10.00077625,  9.99881375,\n",
       "        9.99900856,  9.99911713,  9.99876715, 10.00105469, 10.00064792,\n",
       "       10.00009814, 10.00003256,  9.99926491,  9.99925992,  9.99956297,\n",
       "       10.00003079,  9.99777955,  9.99919712, 10.00004772,  9.99954625,\n",
       "        9.99919181, 10.00124176, 10.00034456, 10.00011961,  9.99997187,\n",
       "       10.0016166 , 10.00030869,  9.99916013, 10.00019607, 10.00068025,\n",
       "       10.00020868,  9.99947406,  9.99978366,  9.99995436,  9.99953704,\n",
       "       10.0000442 ,  9.99927934,  9.99970587, 10.00010745, 10.00078797,\n",
       "       10.00125684, 10.00086196, 10.00098966,  9.99972789,  9.99925193,\n",
       "        9.99996878, 10.00080513, 10.00025491, 10.00019754, 10.00044043,\n",
       "       10.00206658,  9.99923365,  9.99836523, 10.0003683 ,  9.99959938,\n",
       "        9.99992114,  9.99947128, 10.00015862,  9.99964559, 10.00008882,\n",
       "       10.00076458,  9.99892763, 10.00129314,  9.99892968, 10.00063858,\n",
       "        9.9996504 ,  9.99971294,  9.99999044,  9.99866634,  9.99972829,\n",
       "       10.00073971,  9.99932183,  9.99998981, 10.0004733 ,  9.99919581,\n",
       "        9.99979376, 10.00187245, 10.00110127,  9.99847758,  9.99959302,\n",
       "        9.99965856,  9.99906699,  9.99910664,  9.99920181,  9.99884124,\n",
       "       10.00034724, 10.00126364,  9.99946942, 10.00045128,  9.9995447 ,\n",
       "       10.0008519 ,  9.99975748, 10.00024108,  9.99959048,  9.99879458,\n",
       "        9.99931873, 10.00002121,  9.99824178, 10.00002933, 10.00004243,\n",
       "       10.00026632, 10.00108815,  9.99931503,  9.99990367,  9.99981601,\n",
       "        9.99952917, 10.00021562, 10.00046645, 10.00106483, 10.00074553,\n",
       "        9.99975528,  9.9984134 , 10.00095308,  9.99855075,  9.99928031,\n",
       "        9.99917911, 10.00004865, 10.00014756, 10.00008678,  9.99976496,\n",
       "        9.99951325, 10.00146483, 10.00145451,  9.99914725, 10.00066004,\n",
       "        9.99994639, 10.00058569, 10.00052901,  9.9998061 ,  9.99975803,\n",
       "       10.00053003,  9.99980323, 10.00186949,  9.99934916, 10.00021611,\n",
       "        9.99962653,  9.99963286, 10.00164811, 10.00046814,  9.99905699,\n",
       "       10.00019641, 10.00029287,  9.99999085, 10.00023495, 10.00052482,\n",
       "       10.00071864, 10.00019573, 10.00091072,  9.9998215 ,  9.99930107,\n",
       "       10.00054545,  9.99963434,  9.99869754, 10.00040514, 10.00086884,\n",
       "       10.00001524,  9.99972557, 10.00137351,  9.99926089,  9.99930747,\n",
       "       10.00114419,  9.9996201 ,  9.99988457,  9.99947182, 10.00040245,\n",
       "        9.99965877,  9.99995355,  9.99815635,  9.99964674,  9.9991968 ,\n",
       "       10.00096446, 10.00000296,  9.99975739,  9.99941056,  9.99997407,\n",
       "       10.00115162, 10.00006098,  9.9996392 ,  9.99896616,  9.99993181,\n",
       "        9.9997004 , 10.00157289, 10.00091842,  9.99964087, 10.00056971])"
      ]
     },
     "execution_count": 6,
     "metadata": {},
     "output_type": "execute_result"
    }
   ],
   "source": [
    "%%time\n",
    "x = da.random.normal(10, 0.1, size=(20000, 20000), chunks=(1000, 1000))\n",
    "y = x.mean(axis=0)[::100]\n",
    "y.compute() "
   ]
  },
  {
   "cell_type": "code",
   "execution_count": 7,
   "metadata": {},
   "outputs": [],
   "source": [
    "from ast import literal_eval\n",
    "from collections import MutableMapping\n",
    "\n",
    "b = db.read_text(\"reviews.clean.json\")"
   ]
  },
  {
   "cell_type": "code",
   "execution_count": 8,
   "metadata": {},
   "outputs": [],
   "source": [
    "samples = []\n",
    "category = {}"
   ]
  },
  {
   "cell_type": "code",
   "execution_count": 9,
   "metadata": {},
   "outputs": [],
   "source": [
    "for each in b.take(100000):\n",
    "    processed = literal_eval(each)\n",
    "    processed.pop('reviewerName')\n",
    "    processed.pop('reviewText')\n",
    "    processed.pop('unixReviewTime')\n",
    "    processed.pop('reviewTime')\n",
    "    \n",
    "    if processed[\"categories\"]: \n",
    "        for cat in processed[\"categories\"]: \n",
    "            category[cat] = category.get(cat, 0) + 1\n",
    "    \n",
    "    samples.append(processed)"
   ]
  },
  {
   "cell_type": "code",
   "execution_count": 10,
   "metadata": {},
   "outputs": [],
   "source": [
    "processed_db = db.from_sequence(samples, npartitions=20) ## Dividable by 4, the number of workers"
   ]
  },
  {
   "cell_type": "code",
   "execution_count": 11,
   "metadata": {},
   "outputs": [],
   "source": [
    "del samples"
   ]
  },
  {
   "cell_type": "code",
   "execution_count": 12,
   "metadata": {},
   "outputs": [
    {
     "data": {
      "text/plain": [
       "100000"
      ]
     },
     "execution_count": 12,
     "metadata": {},
     "output_type": "execute_result"
    }
   ],
   "source": [
    "processed_db.count().compute()"
   ]
  },
  {
   "cell_type": "code",
   "execution_count": 13,
   "metadata": {},
   "outputs": [],
   "source": [
    "df = processed_db.to_dataframe()"
   ]
  },
  {
   "cell_type": "code",
   "execution_count": 14,
   "metadata": {},
   "outputs": [
    {
     "data": {
      "text/plain": [
       "4576"
      ]
     },
     "execution_count": 14,
     "metadata": {},
     "output_type": "execute_result"
    }
   ],
   "source": [
    "len(category)"
   ]
  },
  {
   "cell_type": "code",
   "execution_count": 15,
   "metadata": {},
   "outputs": [],
   "source": [
    "ratings = df[\"rating\"].compute()"
   ]
  },
  {
   "cell_type": "code",
   "execution_count": null,
   "metadata": {},
   "outputs": [],
   "source": [
    "times = df[\"\"]"
   ]
  },
  {
   "cell_type": "code",
   "execution_count": 17,
   "metadata": {},
   "outputs": [
    {
     "data": {
      "text/plain": [
       "5.0    49760\n",
       "4.0    23764\n",
       "3.0    13329\n",
       "2.0     7930\n",
       "1.0     5217\n",
       "Name: rating, dtype: int64"
      ]
     },
     "execution_count": 17,
     "metadata": {},
     "output_type": "execute_result"
    }
   ],
   "source": [
    "ratings.value_counts()"
   ]
  },
  {
   "cell_type": "code",
   "execution_count": 111,
   "metadata": {},
   "outputs": [
    {
     "data": {
      "text/plain": [
       "<AxesSubplot:xlabel='rating', ylabel='Density'>"
      ]
     },
     "execution_count": 111,
     "metadata": {},
     "output_type": "execute_result"
    },
    {
     "data": {
      "image/png": "[encoded data removed]",
      "text/plain": [
       "<Figure size 842.4x595.44 with 1 Axes>"
      ]
     },
     "metadata": {},
     "output_type": "display_data"
    }
   ],
   "source": [
    "sns.set_theme(); np.random.seed(0)\n",
    "sns.distplot(ratings)"
   ]
  },
  {
   "cell_type": "code",
   "execution_count": 37,
   "metadata": {},
   "outputs": [],
   "source": []
  },
  {
   "cell_type": "code",
   "execution_count": 38,
   "metadata": {},
   "outputs": [],
   "source": [
    "# ReviewTime to Season, recent(<1, 2> )\n",
    "# unixReviewTime to day-open, 24/7 etc\n",
    "# Display reviews histogram by timezone (morning ,lunch, afternoon, dinner etc)"
   ]
  },
  {
   "cell_type": "code",
   "execution_count": null,
   "metadata": {},
   "outputs": [],
   "source": []
  },
  {
   "cell_type": "code",
   "execution_count": 40,
   "metadata": {},
   "outputs": [
    {
     "data": {
      "text/plain": [
       "Index(['Restaurant', 'Hotel', 'European Restaurant', 'Asian Restaurant',\n",
       "       'American Restaurant', 'Italian Restaurant', 'Bar', 'Pizza Restaurant',\n",
       "       'Fast Food Restaurant', 'Cafe', 'Mexican Restaurant',\n",
       "       'Chinese Restaurant', 'Latin American Restaurant', 'Used Car Dealer',\n",
       "       'Seafood Restaurant', 'Hamburger Restaurant', 'Coffee Shop',\n",
       "       'Japanese Restaurant', 'Pub', 'Park', 'Bar & Grill',\n",
       "       'Auto Repair Shop'],\n",
       "      dtype='object')"
      ]
     },
     "execution_count": 40,
     "metadata": {},
     "output_type": "execute_result"
    }
   ],
   "source": [
    "# Display most popular food genre by count\n",
    "# e.g. American, Mexican, SeaFood etc\n",
    "count = pd.Series(category).sort_values(ascending=False)\n",
    "count[count >= 1000].index"
   ]
  },
  {
   "cell_type": "code",
   "execution_count": 41,
   "metadata": {},
   "outputs": [
    {
     "data": {
      "text/plain": [
       "Index(['Shopping Mall', 'Steak House', 'Sandwich Shop', 'Movie Theater',\n",
       "       'Auto Parts Store', 'Bakery', 'University', 'Barbecue Restaurant',\n",
       "       'Lodging', 'Southeast Asian Restaurant', 'Indian Restaurant',\n",
       "       'Sushi Restaurant', 'School', 'French Restaurant', 'Car Dealer',\n",
       "       'Tourist Attraction', 'Hospital', 'South Asian Restaurant',\n",
       "       'Supermarket', 'Mediterranean Restaurant', 'Tire Shop',\n",
       "       'Thai Restaurant', 'Takeout Restaurant', 'Dessert Shop', 'Deli',\n",
       "       'Beauty Salon', 'Department Store'],\n",
       "      dtype='object')"
      ]
     },
     "execution_count": 41,
     "metadata": {},
     "output_type": "execute_result"
    }
   ],
   "source": [
    "count[(1000>count) & (count>500)].index"
   ]
  },
  {
   "cell_type": "code",
   "execution_count": 42,
   "metadata": {},
   "outputs": [
    {
     "data": {
      "text/plain": [
       "Index(['Restaurant', 'Hotel', 'European Restaurant', 'Asian Restaurant',\n",
       "       'American Restaurant', 'Italian Restaurant', 'Bar', 'Pizza Restaurant',\n",
       "       'Fast Food Restaurant', 'Cafe', 'Mexican Restaurant',\n",
       "       'Chinese Restaurant', 'Latin American Restaurant', 'Used Car Dealer',\n",
       "       'Seafood Restaurant', 'Hamburger Restaurant', 'Coffee Shop',\n",
       "       'Japanese Restaurant', 'Pub', 'Park', 'Bar & Grill', 'Auto Repair Shop',\n",
       "       'Shopping Mall', 'Steak House', 'Sandwich Shop', 'Movie Theater',\n",
       "       'Auto Parts Store', 'Bakery', 'University', 'Barbecue Restaurant',\n",
       "       'Lodging', 'Southeast Asian Restaurant', 'Indian Restaurant',\n",
       "       'Sushi Restaurant', 'School', 'French Restaurant', 'Car Dealer',\n",
       "       'Tourist Attraction', 'Hospital', 'South Asian Restaurant',\n",
       "       'Supermarket', 'Mediterranean Restaurant', 'Tire Shop',\n",
       "       'Thai Restaurant', 'Takeout Restaurant', 'Dessert Shop', 'Deli',\n",
       "       'Beauty Salon', 'Department Store'],\n",
       "      dtype='object')"
      ]
     },
     "execution_count": 42,
     "metadata": {},
     "output_type": "execute_result"
    }
   ],
   "source": [
    "count[count >= 500].index"
   ]
  },
  {
   "cell_type": "code",
   "execution_count": 119,
   "metadata": {},
   "outputs": [
    {
     "data": {
      "text/plain": [
       "European Restaurant           4579\n",
       "Asian Restaurant              4359\n",
       "American Restaurant           3871\n",
       "Italian Restaurant            3597\n",
       "Bar                           3233\n",
       "Pizza Restaurant              2883\n",
       "Fast Food Restaurant          2804\n",
       "Mexican Restaurant            1993\n",
       "Chinese Restaurant            1952\n",
       "Latin American Restaurant     1717\n",
       "Seafood Restaurant            1436\n",
       "Hamburger Restaurant          1410\n",
       "Japanese Restaurant           1377\n",
       "Pub                           1245\n",
       "Bar & Grill                   1066\n",
       "Barbecue Restaurant            789\n",
       "Southeast Asian Restaurant     726\n",
       "Indian Restaurant              705\n",
       "Sushi Restaurant               681\n",
       "French Restaurant              651\n",
       "South Asian Restaurant         598\n",
       "Mediterranean Restaurant       569\n",
       "Thai Restaurant                556\n",
       "Takeout Restaurant             548\n",
       "dtype: int64"
      ]
     },
     "execution_count": 119,
     "metadata": {},
     "output_type": "execute_result"
    }
   ],
   "source": [
    "category_series = pd.Series(category)\n",
    "restaurants = category_series[category_series.index.str.contains(\"Restaurant\") | category_series.index.str.contains(\"Bar\") | category_series.index.str.contains(\"Pub\") ].sort_values(ascending=False)\n",
    "restaurants.drop([\"Restaurant\"], inplace=True)\n",
    "populars = restaurants[restaurants > 500]\n",
    "populars"
   ]
  },
  {
   "cell_type": "code",
   "execution_count": 120,
   "metadata": {},
   "outputs": [
    {
     "data": {
      "text/html": [
       "<div>\n",
       "<style scoped>\n",
       "    .dataframe tbody tr th:only-of-type {\n",
       "        vertical-align: middle;\n",
       "    }\n",
       "\n",
       "    .dataframe tbody tr th {\n",
       "        vertical-align: top;\n",
       "    }\n",
       "\n",
       "    .dataframe thead th {\n",
       "        text-align: right;\n",
       "    }\n",
       "</style>\n",
       "<table border=\"1\" class=\"dataframe\">\n",
       "  <thead>\n",
       "    <tr style=\"text-align: right;\">\n",
       "      <th></th>\n",
       "      <th>genre</th>\n",
       "      <th>count</th>\n",
       "    </tr>\n",
       "  </thead>\n",
       "  <tbody>\n",
       "    <tr>\n",
       "      <th>0</th>\n",
       "      <td>European</td>\n",
       "      <td>4579</td>\n",
       "    </tr>\n",
       "    <tr>\n",
       "      <th>1</th>\n",
       "      <td>Asian</td>\n",
       "      <td>4359</td>\n",
       "    </tr>\n",
       "    <tr>\n",
       "      <th>2</th>\n",
       "      <td>American</td>\n",
       "      <td>3871</td>\n",
       "    </tr>\n",
       "    <tr>\n",
       "      <th>3</th>\n",
       "      <td>Italian</td>\n",
       "      <td>3597</td>\n",
       "    </tr>\n",
       "    <tr>\n",
       "      <th>4</th>\n",
       "      <td>Bar</td>\n",
       "      <td>3233</td>\n",
       "    </tr>\n",
       "    <tr>\n",
       "      <th>5</th>\n",
       "      <td>Pizza</td>\n",
       "      <td>2883</td>\n",
       "    </tr>\n",
       "    <tr>\n",
       "      <th>6</th>\n",
       "      <td>Fast Food</td>\n",
       "      <td>2804</td>\n",
       "    </tr>\n",
       "    <tr>\n",
       "      <th>7</th>\n",
       "      <td>Mexican</td>\n",
       "      <td>1993</td>\n",
       "    </tr>\n",
       "    <tr>\n",
       "      <th>8</th>\n",
       "      <td>Chinese</td>\n",
       "      <td>1952</td>\n",
       "    </tr>\n",
       "    <tr>\n",
       "      <th>9</th>\n",
       "      <td>Latin American</td>\n",
       "      <td>1717</td>\n",
       "    </tr>\n",
       "    <tr>\n",
       "      <th>10</th>\n",
       "      <td>Seafood</td>\n",
       "      <td>1436</td>\n",
       "    </tr>\n",
       "    <tr>\n",
       "      <th>11</th>\n",
       "      <td>Hamburger</td>\n",
       "      <td>1410</td>\n",
       "    </tr>\n",
       "    <tr>\n",
       "      <th>12</th>\n",
       "      <td>Japanese</td>\n",
       "      <td>1377</td>\n",
       "    </tr>\n",
       "    <tr>\n",
       "      <th>13</th>\n",
       "      <td>Pub</td>\n",
       "      <td>1245</td>\n",
       "    </tr>\n",
       "    <tr>\n",
       "      <th>14</th>\n",
       "      <td>Bar &amp; Grill</td>\n",
       "      <td>1066</td>\n",
       "    </tr>\n",
       "    <tr>\n",
       "      <th>15</th>\n",
       "      <td>Barbecue</td>\n",
       "      <td>789</td>\n",
       "    </tr>\n",
       "    <tr>\n",
       "      <th>16</th>\n",
       "      <td>Southeast Asian</td>\n",
       "      <td>726</td>\n",
       "    </tr>\n",
       "    <tr>\n",
       "      <th>17</th>\n",
       "      <td>Indian</td>\n",
       "      <td>705</td>\n",
       "    </tr>\n",
       "    <tr>\n",
       "      <th>18</th>\n",
       "      <td>Sushi</td>\n",
       "      <td>681</td>\n",
       "    </tr>\n",
       "    <tr>\n",
       "      <th>19</th>\n",
       "      <td>French</td>\n",
       "      <td>651</td>\n",
       "    </tr>\n",
       "    <tr>\n",
       "      <th>20</th>\n",
       "      <td>South Asian</td>\n",
       "      <td>598</td>\n",
       "    </tr>\n",
       "    <tr>\n",
       "      <th>21</th>\n",
       "      <td>Mediterranean</td>\n",
       "      <td>569</td>\n",
       "    </tr>\n",
       "    <tr>\n",
       "      <th>22</th>\n",
       "      <td>Thai</td>\n",
       "      <td>556</td>\n",
       "    </tr>\n",
       "    <tr>\n",
       "      <th>23</th>\n",
       "      <td>Takeout</td>\n",
       "      <td>548</td>\n",
       "    </tr>\n",
       "  </tbody>\n",
       "</table>\n",
       "</div>"
      ],
      "text/plain": [
       "               genre  count\n",
       "0          European    4579\n",
       "1             Asian    4359\n",
       "2          American    3871\n",
       "3           Italian    3597\n",
       "4                Bar   3233\n",
       "5             Pizza    2883\n",
       "6         Fast Food    2804\n",
       "7           Mexican    1993\n",
       "8           Chinese    1952\n",
       "9    Latin American    1717\n",
       "10          Seafood    1436\n",
       "11        Hamburger    1410\n",
       "12         Japanese    1377\n",
       "13               Pub   1245\n",
       "14       Bar & Grill   1066\n",
       "15         Barbecue     789\n",
       "16  Southeast Asian     726\n",
       "17           Indian     705\n",
       "18            Sushi     681\n",
       "19           French     651\n",
       "20      South Asian     598\n",
       "21    Mediterranean     569\n",
       "22             Thai     556\n",
       "23          Takeout     548"
      ]
     },
     "execution_count": 120,
     "metadata": {},
     "output_type": "execute_result"
    }
   ],
   "source": [
    "pd_df = pd.DataFrame(data={\n",
    "    \"genre\": populars.index.map(lambda x: x.replace(\"Restaurant\", \"\")),\n",
    "    \"count\": populars.values\n",
    "})\n",
    "pd_df"
   ]
  },
  {
   "cell_type": "code",
   "execution_count": 121,
   "metadata": {},
   "outputs": [
    {
     "data": {
      "text/plain": [
       "<AxesSubplot:xlabel='count', ylabel='genre'>"
      ]
     },
     "execution_count": 121,
     "metadata": {},
     "output_type": "execute_result"
    },
    {
     "data": {
      "image/png": "[encoded data removed]",
      "text/plain": [
       "<Figure size 842.4x595.44 with 1 Axes>"
      ]
     },
     "metadata": {},
     "output_type": "display_data"
    }
   ],
   "source": [
    "sns.barplot(y=\"genre\", x=\"count\", data=pd_df)"
   ]
  },
  {
   "cell_type": "code",
   "execution_count": null,
   "metadata": {},
   "outputs": [],
   "source": []
  },
  {
   "cell_type": "code",
   "execution_count": null,
   "metadata": {},
   "outputs": [],
   "source": []
  },
  {
   "cell_type": "code",
   "execution_count": 114,
   "metadata": {},
   "outputs": [],
   "source": [
    "categories = df[\"categories\"].compute()"
   ]
  },
  {
   "cell_type": "code",
   "execution_count": 115,
   "metadata": {},
   "outputs": [
    {
     "data": {
      "text/plain": [
       "0                                   [Giải Trí - Café]\n",
       "1                                   [Turkish Cuisine]\n",
       "2       [Fishing, Pond Fish Supplier, Seafood Market]\n",
       "3                                            [Museum]\n",
       "4                                            [Police]\n",
       "                            ...                      \n",
       "4995                                     [Hotel, Pub]\n",
       "4996                        [Restaurant, Steak House]\n",
       "4997                                       [Bar, Pub]\n",
       "4998                             [Takeout Restaurant]\n",
       "4999                                        [Brewery]\n",
       "Name: categories, Length: 100000, dtype: object"
      ]
     },
     "execution_count": 115,
     "metadata": {},
     "output_type": "execute_result"
    }
   ],
   "source": [
    "categories"
   ]
  },
  {
   "cell_type": "code",
   "execution_count": 157,
   "metadata": {},
   "outputs": [],
   "source": [
    "categories_df = pd.DataFrame(data={\n",
    "    \"categories\": categories.values\n",
    "})"
   ]
  },
  {
   "cell_type": "code",
   "execution_count": 158,
   "metadata": {},
   "outputs": [
    {
     "data": {
      "text/html": [
       "<div>\n",
       "<style scoped>\n",
       "    .dataframe tbody tr th:only-of-type {\n",
       "        vertical-align: middle;\n",
       "    }\n",
       "\n",
       "    .dataframe tbody tr th {\n",
       "        vertical-align: top;\n",
       "    }\n",
       "\n",
       "    .dataframe thead th {\n",
       "        text-align: right;\n",
       "    }\n",
       "</style>\n",
       "<table border=\"1\" class=\"dataframe\">\n",
       "  <thead>\n",
       "    <tr style=\"text-align: right;\">\n",
       "      <th></th>\n",
       "      <th>categories</th>\n",
       "    </tr>\n",
       "  </thead>\n",
       "  <tbody>\n",
       "    <tr>\n",
       "      <th>0</th>\n",
       "      <td>[Giải Trí - Café]</td>\n",
       "    </tr>\n",
       "    <tr>\n",
       "      <th>1</th>\n",
       "      <td>[Turkish Cuisine]</td>\n",
       "    </tr>\n",
       "    <tr>\n",
       "      <th>2</th>\n",
       "      <td>[Fishing, Pond Fish Supplier, Seafood Market]</td>\n",
       "    </tr>\n",
       "    <tr>\n",
       "      <th>3</th>\n",
       "      <td>[Museum]</td>\n",
       "    </tr>\n",
       "    <tr>\n",
       "      <th>4</th>\n",
       "      <td>[Police]</td>\n",
       "    </tr>\n",
       "    <tr>\n",
       "      <th>...</th>\n",
       "      <td>...</td>\n",
       "    </tr>\n",
       "    <tr>\n",
       "      <th>99995</th>\n",
       "      <td>[Hotel, Pub]</td>\n",
       "    </tr>\n",
       "    <tr>\n",
       "      <th>99996</th>\n",
       "      <td>[Restaurant, Steak House]</td>\n",
       "    </tr>\n",
       "    <tr>\n",
       "      <th>99997</th>\n",
       "      <td>[Bar, Pub]</td>\n",
       "    </tr>\n",
       "    <tr>\n",
       "      <th>99998</th>\n",
       "      <td>[Takeout Restaurant]</td>\n",
       "    </tr>\n",
       "    <tr>\n",
       "      <th>99999</th>\n",
       "      <td>[Brewery]</td>\n",
       "    </tr>\n",
       "  </tbody>\n",
       "</table>\n",
       "<p>100000 rows × 1 columns</p>\n",
       "</div>"
      ],
      "text/plain": [
       "                                          categories\n",
       "0                                  [Giải Trí - Café]\n",
       "1                                  [Turkish Cuisine]\n",
       "2      [Fishing, Pond Fish Supplier, Seafood Market]\n",
       "3                                           [Museum]\n",
       "4                                           [Police]\n",
       "...                                              ...\n",
       "99995                                   [Hotel, Pub]\n",
       "99996                      [Restaurant, Steak House]\n",
       "99997                                     [Bar, Pub]\n",
       "99998                           [Takeout Restaurant]\n",
       "99999                                      [Brewery]\n",
       "\n",
       "[100000 rows x 1 columns]"
      ]
     },
     "execution_count": 158,
     "metadata": {},
     "output_type": "execute_result"
    }
   ],
   "source": [
    "categories_df"
   ]
  },
  {
   "cell_type": "code",
   "execution_count": 161,
   "metadata": {},
   "outputs": [
    {
     "data": {
      "text/html": [
       "<div>\n",
       "<style scoped>\n",
       "    .dataframe tbody tr th:only-of-type {\n",
       "        vertical-align: middle;\n",
       "    }\n",
       "\n",
       "    .dataframe tbody tr th {\n",
       "        vertical-align: top;\n",
       "    }\n",
       "\n",
       "    .dataframe thead th {\n",
       "        text-align: right;\n",
       "    }\n",
       "</style>\n",
       "<table border=\"1\" class=\"dataframe\">\n",
       "  <thead>\n",
       "    <tr style=\"text-align: right;\">\n",
       "      <th></th>\n",
       "      <th>categories</th>\n",
       "      <th>isMoreThanOne</th>\n",
       "    </tr>\n",
       "  </thead>\n",
       "  <tbody>\n",
       "    <tr>\n",
       "      <th>0</th>\n",
       "      <td>[Giải Trí - Café]</td>\n",
       "      <td>False</td>\n",
       "    </tr>\n",
       "    <tr>\n",
       "      <th>1</th>\n",
       "      <td>[Turkish Cuisine]</td>\n",
       "      <td>False</td>\n",
       "    </tr>\n",
       "    <tr>\n",
       "      <th>2</th>\n",
       "      <td>[Fishing, Pond Fish Supplier, Seafood Market]</td>\n",
       "      <td>True</td>\n",
       "    </tr>\n",
       "    <tr>\n",
       "      <th>3</th>\n",
       "      <td>[Museum]</td>\n",
       "      <td>False</td>\n",
       "    </tr>\n",
       "    <tr>\n",
       "      <th>4</th>\n",
       "      <td>[Police]</td>\n",
       "      <td>False</td>\n",
       "    </tr>\n",
       "    <tr>\n",
       "      <th>...</th>\n",
       "      <td>...</td>\n",
       "      <td>...</td>\n",
       "    </tr>\n",
       "    <tr>\n",
       "      <th>99995</th>\n",
       "      <td>[Hotel, Pub]</td>\n",
       "      <td>True</td>\n",
       "    </tr>\n",
       "    <tr>\n",
       "      <th>99996</th>\n",
       "      <td>[Restaurant, Steak House]</td>\n",
       "      <td>True</td>\n",
       "    </tr>\n",
       "    <tr>\n",
       "      <th>99997</th>\n",
       "      <td>[Bar, Pub]</td>\n",
       "      <td>True</td>\n",
       "    </tr>\n",
       "    <tr>\n",
       "      <th>99998</th>\n",
       "      <td>[Takeout Restaurant]</td>\n",
       "      <td>False</td>\n",
       "    </tr>\n",
       "    <tr>\n",
       "      <th>99999</th>\n",
       "      <td>[Brewery]</td>\n",
       "      <td>False</td>\n",
       "    </tr>\n",
       "  </tbody>\n",
       "</table>\n",
       "<p>100000 rows × 2 columns</p>\n",
       "</div>"
      ],
      "text/plain": [
       "                                          categories  isMoreThanOne\n",
       "0                                  [Giải Trí - Café]          False\n",
       "1                                  [Turkish Cuisine]          False\n",
       "2      [Fishing, Pond Fish Supplier, Seafood Market]           True\n",
       "3                                           [Museum]          False\n",
       "4                                           [Police]          False\n",
       "...                                              ...            ...\n",
       "99995                                   [Hotel, Pub]           True\n",
       "99996                      [Restaurant, Steak House]           True\n",
       "99997                                     [Bar, Pub]           True\n",
       "99998                           [Takeout Restaurant]          False\n",
       "99999                                      [Brewery]          False\n",
       "\n",
       "[100000 rows x 2 columns]"
      ]
     },
     "execution_count": 161,
     "metadata": {},
     "output_type": "execute_result"
    }
   ],
   "source": [
    "# If more than 1 category, then `fusion`\n",
    "categories_df[\"isMoreThanOne\"] = categories_df.apply((lambda row: len(row[\"categories\"]) >= 2 if row[\"categories\"] else False), axis=1)\n",
    "categories_df"
   ]
  },
  {
   "cell_type": "code",
   "execution_count": 163,
   "metadata": {},
   "outputs": [
    {
     "data": {
      "text/plain": [
       "False    56465\n",
       "True     43535\n",
       "Name: isMoreThanOne, dtype: int64"
      ]
     },
     "execution_count": 163,
     "metadata": {},
     "output_type": "execute_result"
    }
   ],
   "source": [
    "categories_df[\"isMoreThanOne\"].value_counts()"
   ]
  },
  {
   "cell_type": "code",
   "execution_count": 34,
   "metadata": {},
   "outputs": [],
   "source": [
    "# Idea 1\n",
    "# Row = User\n",
    "# Col = Place Category (not each restaurant)\n",
    "# If certain category is recommended, then choose one of restaurants with the category?\n",
    "# (or make another recommender system within the category...?)"
   ]
  },
  {
   "cell_type": "code",
   "execution_count": 35,
   "metadata": {},
   "outputs": [],
   "source": [
    "# Idea2\n",
    "# Col = Each Restaurant (too many?)"
   ]
  },
  {
   "cell_type": "code",
   "execution_count": null,
   "metadata": {},
   "outputs": [],
   "source": [
    "# Idea3\n",
    "# Col = Restaurant&Food&Grocery, Movie&Cinema&Opera, Soccer&BasketBall&gym&Swimming, Shopping, Cafe"
   ]
  },
  {
   "cell_type": "code",
   "execution_count": null,
   "metadata": {},
   "outputs": [],
   "source": [
    "# Idea4\n",
    "# Feature\n",
    "# 1. Quality Place = rating >= 4 or 5 (by join and aggregate)\n",
    "# 2. Popular Place = # of reviews > N\n",
    "# 3. Quiet Place = else\n",
    "# 4. Only Open at Day? or All Day?\n",
    "# 5. Near the beach? ( by GPS )\n",
    "\n",
    "# Exclude Places whose ratings are under 2?\n",
    "\n",
    "# How to reflect features \n",
    "# other than user and places into recommender system?\n",
    "# => Content Based (e.g. Day? night? and food \"Genre\"s)"
   ]
  }
 ],
 "metadata": {
  "kernelspec": {
   "display_name": "cmpe256-team4-venv",
   "language": "python",
   "name": "cmpe256-team4-venv"
  },
  "language_info": {
   "codemirror_mode": {
    "name": "ipython",
    "version": 3
   },
   "file_extension": ".py",
   "mimetype": "text/x-python",
   "name": "python",
   "nbconvert_exporter": "python",
   "pygments_lexer": "ipython3",
   "version": "3.6.7"
  }
 },
 "nbformat": 4,
 "nbformat_minor": 2
}
