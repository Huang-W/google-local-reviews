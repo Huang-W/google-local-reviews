{
 "cells": [
  {
   "cell_type": "code",
   "execution_count": 1,
   "metadata": {},
   "outputs": [],
   "source": [
    "import warnings\n",
    "warnings.simplefilter(action='ignore', category=FutureWarning)\n",
    "import numpy as np\n",
    "import scipy as sp\n",
    "import pandas as pd\n",
    "# import geopandas as gpd\n",
    "# import geoplot as gplt\n",
    "from shapely.geometry import Point\n",
    "import shapely\n",
    "import reverse_geocoder as rg\n",
    "\n",
    "import sklearn as sk\n",
    "import matplotlib as mpl\n",
    "import matplotlib.pylab as plt\n",
    "import matplotlib.font_manager as fm\n",
    "from mpl_toolkits.mplot3d import Axes3D\n",
    "\n",
    "import seaborn as sns\n",
    "sns.set(rc={'figure.figsize':(13.7,10.27)})\n",
    "sns.set_style(\"whitegrid\")\n",
    "sns.set_color_codes()"
   ]
  },
  {
   "cell_type": "code",
   "execution_count": 2,
   "metadata": {},
   "outputs": [],
   "source": [
    "from dask.distributed import Client\n",
    "import dask.bag as db\n",
    "import dask.dataframe as dd\n",
    "import dask.array as da\n",
    "import dask\n",
    "\n",
    "from ast import literal_eval\n",
    "from collections.abc import MutableMapping\n",
    "from collections import Counter, defaultdict\n",
    "# import h5py\n",
    "import io\n",
    "import os"
   ]
  },
  {
   "cell_type": "code",
   "execution_count": 3,
   "metadata": {},
   "outputs": [],
   "source": [
    "from surprise import BaselineOnly\n",
    "from surprise import Dataset\n",
    "from surprise import Reader\n",
    "from surprise.model_selection.split import train_test_split\n",
    "from surprise.model_selection import cross_validate, GridSearchCV\n",
    "import pandas as pd\n",
    "import numpy as np\n",
    "import os, io\n",
    "from surprise import KNNBasic, KNNWithMeans, KNNWithZScore, KNNBaseline\n",
    "from surprise import SVDpp, SVD, NMF\n",
    "from surprise import SlopeOne\n",
    "from surprise import CoClustering\n",
    "from surprise import accuracy\n",
    "from sklearn.linear_model import Ridge, RidgeCV, SGDRegressor\n",
    "from sklearn.metrics import mean_squared_error as mse\n",
    "import math"
   ]
  },
  {
   "cell_type": "code",
   "execution_count": 4,
   "metadata": {},
   "outputs": [],
   "source": [
    "SVD_ALGO = \"SVD\"\n",
    "BLENDER_RIDGE = \"RidgeCV\"\n",
    "BLENDER_SGD = \"SGDRegressor\""
   ]
  },
  {
   "cell_type": "code",
   "execution_count": 5,
   "metadata": {},
   "outputs": [
    {
     "data": {
      "text/html": [
       "<table style=\"border: 2px solid white;\">\n",
       "<tr>\n",
       "<td style=\"vertical-align: top; border: 0px solid white\">\n",
       "<h3 style=\"text-align: left;\">Client</h3>\n",
       "<ul style=\"text-align: left; list-style: none; margin: 0; padding: 0;\">\n",
       "  <li><b>Scheduler: </b>tcp://127.0.0.1:46485</li>\n",
       "  <li><b>Dashboard: </b><a href='http://127.0.0.1:8787/status' target='_blank'>http://127.0.0.1:8787/status</a></li>\n",
       "</ul>\n",
       "</td>\n",
       "<td style=\"vertical-align: top; border: 0px solid white\">\n",
       "<h3 style=\"text-align: left;\">Cluster</h3>\n",
       "<ul style=\"text-align: left; list-style:none; margin: 0; padding: 0;\">\n",
       "  <li><b>Workers: </b>8</li>\n",
       "  <li><b>Cores: </b>16</li>\n",
       "  <li><b>Memory: </b>33.65 GB</li>\n",
       "</ul>\n",
       "</td>\n",
       "</tr>\n",
       "</table>"
      ],
      "text/plain": [
       "<Client: 'tcp://127.0.0.1:46485' processes=8 threads=16, memory=33.65 GB>"
      ]
     },
     "execution_count": 5,
     "metadata": {},
     "output_type": "execute_result"
    }
   ],
   "source": [
    "client = Client(n_workers=8)\n",
    "client"
   ]
  },
  {
   "cell_type": "code",
   "execution_count": 6,
   "metadata": {},
   "outputs": [
    {
     "data": {
      "text/plain": [
       "Index(['rating', 'reviewerName', 'categories', 'gPlusPlaceId', 'gPlusUserId',\n",
       "       'user_lat', 'user_long', 'placeName', 'price', 'address', 'place_lat',\n",
       "       'place_long'],\n",
       "      dtype='object')"
      ]
     },
     "execution_count": 6,
     "metadata": {},
     "output_type": "execute_result"
    }
   ],
   "source": [
    "joined_df = dd.read_csv('data/joined_df.csv').compute()\n",
    "joined_df = joined_df.loc[:, ~joined_df.columns.str.match('Unnamed')]\n",
    "joined_df.columns"
   ]
  },
  {
   "cell_type": "code",
   "execution_count": 7,
   "metadata": {},
   "outputs": [],
   "source": [
    "def places_filter(df, lat_l, lat_h, lon_l, lon_h):\n",
    "    return df[(lat_l <= df.place_lat ) & (df.place_lat <= lat_h) & (lon_l <= df.place_long) & (df.place_long <= lon_h)]"
   ]
  },
  {
   "cell_type": "code",
   "execution_count": 8,
   "metadata": {},
   "outputs": [
    {
     "name": "stdout",
     "output_type": "stream",
     "text": [
      "CPU times: user 169 ms, sys: 32.3 ms, total: 201 ms\n",
      "Wall time: 196 ms\n"
     ]
    },
    {
     "data": {
      "text/plain": [
       "(2285757, 12)"
      ]
     },
     "execution_count": 8,
     "metadata": {},
     "output_type": "execute_result"
    }
   ],
   "source": [
    "%%time\n",
    "usa_df = places_filter(joined_df, 19.50139, 64.85694, -161.75583, -68.01197)\n",
    "usa_df.shape"
   ]
  },
  {
   "cell_type": "code",
   "execution_count": 9,
   "metadata": {},
   "outputs": [],
   "source": [
    "# Create training set\n",
    "reader = Reader(rating_scale=(1,5))  #invoke reader instance of surprise library\n",
    "data = Dataset.load_from_df(usa_df[['gPlusUserId','gPlusPlaceId','rating']], reader)"
   ]
  },
  {
   "cell_type": "markdown",
   "metadata": {},
   "source": [
    "# Starting Stacking for Collaborative filtering RecSys"
   ]
  },
  {
   "cell_type": "markdown",
   "metadata": {},
   "source": [
    "# Training first layer for Stacking!"
   ]
  },
  {
   "cell_type": "code",
   "execution_count": 17,
   "metadata": {},
   "outputs": [],
   "source": [
    "def train_first_layer(algorithms, hparams, train_set, test_set):\n",
    "    trained_algorithms = []\n",
    "    performances = []\n",
    "    \n",
    "    for idx, algorithm in enumerate(algorithms):\n",
    "        hparam = hparams[idx]\n",
    "        print(\"\\t\\t{} training started: {}\".format(idx+1, hparam))\n",
    "        if algorithm is SVD or algorithm is SVDpp: configured_algorithm = algorithm(n_factors=hparam[\"n_factors\"], n_epochs=hparam[\"n_epochs\"], reg_all= hparam[\"reg_all\"])\n",
    "        elif algorithm is NMF: configured_algorithm = algorithm(n_factors=hparam[\"n_factors\"], n_epochs=hparam[\"n_epochs\"])\n",
    "        elif algorithm is SlopeOne: configured_algorithm = algorithm()\n",
    "        elif algorithm is CoClustering: configured_algorithm = algorithm(n_cltr_u=hparam[\"n_cltr_u\"], n_cltr_i=hparam[\"n_cltr_i\"], n_epochs=hparam[\"n_epochs\"], random_state=42)\n",
    "        configured_algorithm.fit(train_set)\n",
    "        trained_algorithms.append(configured_algorithm)\n",
    "        rmse = accuracy.rmse(configured_algorithm.test(test_set), verbose=False)\n",
    "        print(\"\\t\\tRMSE= \", rmse)\n",
    "        performances.append(rmse)\n",
    "    \n",
    "    return trained_algorithms, performances"
   ]
  },
  {
   "cell_type": "code",
   "execution_count": 11,
   "metadata": {},
   "outputs": [],
   "source": [
    "def predict_first_layer(trained_algorithms, test_set):\n",
    "    return [\n",
    "        trained_algorithm.test(test_set)\n",
    "        for trained_algorithm in trained_algorithms\n",
    "    ]"
   ]
  },
  {
   "cell_type": "code",
   "execution_count": 12,
   "metadata": {},
   "outputs": [],
   "source": [
    "def train_last_layer(trained_algorithms, train_set, blender_algorithm=BLENDER_RIDGE):\n",
    "    actual_trainingSet = [each for each in train_set.all_ratings()]\n",
    "    predictions_for_trainingSet = predict_first_layer(trained_algorithms, actual_trainingSet)\n",
    "    print(\"\\t\\tGenerating predictions Complete !\")\n",
    "    \n",
    "    train_pred = [[each.est for each in prediction] for prediction in predictions_for_trainingSet]\n",
    "    train_true = [each.r_ui for each in predictions_for_trainingSet[0]]\n",
    "    \n",
    "    blender_train_X = np.column_stack(train_pred)\n",
    "    blender_train_y = train_true\n",
    "    print(\"\\t\\tOrganizing data for Blender Complete !\")\n",
    "    \n",
    "    assert blender_train_X.shape[0] == len(blender_train_y), \"There's problem in dimension for training set\"\n",
    "    \n",
    "    blender = None\n",
    "    if blender_algorithm is BLENDER_RIDGE: blender = RidgeCV(cv=5)\n",
    "    elif blender_algorithm is BLENDER_SGD: blender = SGDRegressor(max_iter=5000)\n",
    "    print(\"\\t\\tDetermination for Blender Algorithm Complete !\")    \n",
    "    \n",
    "    blender.fit(blender_train_X, blender_train_y)\n",
    "    print(\"\\t\\tBlender Training Complete !\")\n",
    "    return blender"
   ]
  },
  {
   "cell_type": "code",
   "execution_count": 13,
   "metadata": {},
   "outputs": [],
   "source": [
    "def predict_last_layer(trained_algorithms, blender, userID, iid):\n",
    "    preds = [algo.predict(userID, iid) for algo in trained_algorithms]\n",
    "    blender_X = np.column_stack((pred.est for pred in preds))\n",
    "    return blender.predict(blender_X)"
   ]
  },
  {
   "cell_type": "code",
   "execution_count": 14,
   "metadata": {},
   "outputs": [],
   "source": [
    "def CV(cv, algorithms, hparams):\n",
    "    individual_performances = []\n",
    "    sgd_performances = []\n",
    "    ridge_performances = []\n",
    "    \n",
    "    for idx in range(cv):\n",
    "        print(\"{} Cross Validation started\".format(idx+1))\n",
    "        trainingSet, testSet = train_test_split(data, test_size=0.2, train_size=None, random_state=42, shuffle=True)\n",
    "        print(\"\\tData Perparation Completed\")\n",
    "        \n",
    "        trained_algorithms, performances = train_first_layer(algorithms, hparams, trainingSet, testSet)\n",
    "        individual_performances.append(performances)\n",
    "        \n",
    "        predictions = predict_first_layer(trained_algorithms, testSet)\n",
    "        test_true = [each.r_ui for each in predictions[0]]\n",
    "        test_pred = [[each.est for each in prediction] for prediction in predictions]\n",
    "        blender_test_X = np.column_stack(test_pred)\n",
    "        blender_test_y = test_true\n",
    "        print(\"\\tPreparing data for Blender Completed\")\n",
    "        \n",
    "        SGD_blender = train_last_layer(trained_algorithms, trainingSet, BLENDER_SGD)\n",
    "        final_pred = SGD_blender.predict(blender_test_X)\n",
    "        sgd_performance = math.sqrt(mse(final_pred, blender_test_y))\n",
    "        sgd_performances.append(sgd_performance)\n",
    "        print(\"\\tSGD Performance: \", sgd_performance)\n",
    "        \n",
    "        RIDGE_blender = train_last_layer(trained_algorithms, trainingSet, BLENDER_RIDGE)\n",
    "        final_pred = RIDGE_blender.predict(blender_test_X)\n",
    "        ridge_performance = math.sqrt(mse(final_pred, blender_test_y))\n",
    "        ridge_performances.append(ridge_performance)\n",
    "        print(\"\\tRidge Performance: \", ridge_performance)\n",
    "    \n",
    "    return individual_performances, sgd_performances, ridge_performances"
   ]
  },
  {
   "cell_type": "code",
   "execution_count": 15,
   "metadata": {},
   "outputs": [
    {
     "name": "stdout",
     "output_type": "stream",
     "text": [
      "1 Cross Validation started\n",
      "\tData Perparation Completed\n",
      "\t\t1 training started: {'n_factors': 20, 'n_epochs': 20, 'reg_all': 0.02}\n",
      "\t\tRMSE=  1.104128129725131\n",
      "\t\t2 training started: {'n_factors': 10, 'n_epochs': 10, 'reg_all': 0.02}\n",
      "\t\tRMSE=  1.116300691735627\n",
      "\t\t3 training started: {'n_factors': 40, 'n_epochs': 40, 'reg_all': 0.02}\n",
      "\t\tRMSE=  1.102376597370062\n",
      "\tPreparing data for Blender Completed\n",
      "\t\tGenerating predictions Complete !\n",
      "\t\tOrganizing data for Blender Complete !\n",
      "\t\tDetermination for Blender Algorithm Complete !\n",
      "\t\tBlender Training Complete !\n",
      "\tSGD Performance:  1.1036378052526374\n",
      "\t\tGenerating predictions Complete !\n",
      "\t\tOrganizing data for Blender Complete !\n",
      "\t\tDetermination for Blender Algorithm Complete !\n",
      "\t\tBlender Training Complete !\n",
      "\tRidge Performance:  1.1741878518117768\n",
      "2 Cross Validation started\n",
      "\tData Perparation Completed\n",
      "\t\t1 training started: {'n_factors': 20, 'n_epochs': 20, 'reg_all': 0.02}\n",
      "\t\tRMSE=  1.1040577438034098\n",
      "\t\t2 training started: {'n_factors': 10, 'n_epochs': 10, 'reg_all': 0.02}\n",
      "\t\tRMSE=  1.116316200685916\n",
      "\t\t3 training started: {'n_factors': 40, 'n_epochs': 40, 'reg_all': 0.02}\n",
      "\t\tRMSE=  1.1024758720356753\n",
      "\tPreparing data for Blender Completed\n",
      "\t\tGenerating predictions Complete !\n",
      "\t\tOrganizing data for Blender Complete !\n",
      "\t\tDetermination for Blender Algorithm Complete !\n",
      "\t\tBlender Training Complete !\n",
      "\tSGD Performance:  1.1040595724290856\n",
      "\t\tGenerating predictions Complete !\n",
      "\t\tOrganizing data for Blender Complete !\n",
      "\t\tDetermination for Blender Algorithm Complete !\n",
      "\t\tBlender Training Complete !\n",
      "\tRidge Performance:  1.1741878518117768\n",
      "3 Cross Validation started\n",
      "\tData Perparation Completed\n",
      "\t\t1 training started: {'n_factors': 20, 'n_epochs': 20, 'reg_all': 0.02}\n",
      "\t\tRMSE=  1.10406143224118\n",
      "\t\t2 training started: {'n_factors': 10, 'n_epochs': 10, 'reg_all': 0.02}\n",
      "\t\tRMSE=  1.116381529546661\n",
      "\t\t3 training started: {'n_factors': 40, 'n_epochs': 40, 'reg_all': 0.02}\n",
      "\t\tRMSE=  1.1024247604493018\n",
      "\tPreparing data for Blender Completed\n",
      "\t\tGenerating predictions Complete !\n",
      "\t\tOrganizing data for Blender Complete !\n",
      "\t\tDetermination for Blender Algorithm Complete !\n",
      "\t\tBlender Training Complete !\n",
      "\tSGD Performance:  1.1094880456679652\n",
      "\t\tGenerating predictions Complete !\n",
      "\t\tOrganizing data for Blender Complete !\n",
      "\t\tDetermination for Blender Algorithm Complete !\n",
      "\t\tBlender Training Complete !\n",
      "\tRidge Performance:  1.1741878518117768\n",
      "4 Cross Validation started\n",
      "\tData Perparation Completed\n",
      "\t\t1 training started: {'n_factors': 20, 'n_epochs': 20, 'reg_all': 0.02}\n",
      "\t\tRMSE=  1.104057380690431\n",
      "\t\t2 training started: {'n_factors': 10, 'n_epochs': 10, 'reg_all': 0.02}\n",
      "\t\tRMSE=  1.1163140446305704\n",
      "\t\t3 training started: {'n_factors': 40, 'n_epochs': 40, 'reg_all': 0.02}\n",
      "\t\tRMSE=  1.102317069190215\n",
      "\tPreparing data for Blender Completed\n",
      "\t\tGenerating predictions Complete !\n",
      "\t\tOrganizing data for Blender Complete !\n",
      "\t\tDetermination for Blender Algorithm Complete !\n",
      "\t\tBlender Training Complete !\n",
      "\tSGD Performance:  1.103483828317585\n",
      "\t\tGenerating predictions Complete !\n",
      "\t\tOrganizing data for Blender Complete !\n",
      "\t\tDetermination for Blender Algorithm Complete !\n",
      "\t\tBlender Training Complete !\n",
      "\tRidge Performance:  1.1741878518117768\n",
      "5 Cross Validation started\n",
      "\tData Perparation Completed\n",
      "\t\t1 training started: {'n_factors': 20, 'n_epochs': 20, 'reg_all': 0.02}\n",
      "\t\tRMSE=  1.1040443002210418\n",
      "\t\t2 training started: {'n_factors': 10, 'n_epochs': 10, 'reg_all': 0.02}\n",
      "\t\tRMSE=  1.1163788074762615\n",
      "\t\t3 training started: {'n_factors': 40, 'n_epochs': 40, 'reg_all': 0.02}\n",
      "\t\tRMSE=  1.1023592294209819\n",
      "\tPreparing data for Blender Completed\n",
      "\t\tGenerating predictions Complete !\n",
      "\t\tOrganizing data for Blender Complete !\n",
      "\t\tDetermination for Blender Algorithm Complete !\n",
      "\t\tBlender Training Complete !\n",
      "\tSGD Performance:  1.1062723852894916\n",
      "\t\tGenerating predictions Complete !\n",
      "\t\tOrganizing data for Blender Complete !\n",
      "\t\tDetermination for Blender Algorithm Complete !\n",
      "\t\tBlender Training Complete !\n",
      "\tRidge Performance:  1.1741878518117768\n"
     ]
    }
   ],
   "source": [
    "# Experiment 1\n",
    "algorithms = [SVD, SVD, SVD]\n",
    "hparams = [\n",
    "    {\n",
    "        \"n_factors\": 20,\n",
    "        \"n_epochs\": 20,\n",
    "        \"reg_all\": 0.02\n",
    "    },\n",
    "    {\n",
    "        \"n_factors\": 10,\n",
    "        \"n_epochs\": 10,\n",
    "        \"reg_all\": 0.02\n",
    "    },\n",
    "    {\n",
    "        \"n_factors\": 40,\n",
    "        \"n_epochs\": 40,\n",
    "        \"reg_all\": 0.02\n",
    "    }\n",
    "]\n",
    "individual_performances1, sgd_performances1, ridge_performances1 = CV(5, algorithms, hparams)"
   ]
  },
  {
   "cell_type": "code",
   "execution_count": 18,
   "metadata": {},
   "outputs": [
    {
     "name": "stdout",
     "output_type": "stream",
     "text": [
      "1 Cross Validation started\n",
      "\tData Perparation Completed\n",
      "\t\t1 training started: {'n_factors': 5, 'n_epochs': 5, 'reg_all': 0.02}\n",
      "\t\tRMSE=  1.1245787994970402\n",
      "\t\t2 training started: {'n_factors': 8, 'n_epochs': 8, 'reg_all': 0.02}\n",
      "\t\tRMSE=  1.1142841810767818\n",
      "\t\t3 training started: {'n_factors': 10, 'n_epochs': 10, 'reg_all': 0.02}\n",
      "\t\tRMSE=  1.1099657032527241\n",
      "\tPreparing data for Blender Completed\n",
      "\t\tGenerating predictions Complete !\n",
      "\t\tOrganizing data for Blender Complete !\n",
      "\t\tDetermination for Blender Algorithm Complete !\n",
      "\t\tBlender Training Complete !\n",
      "\tSGD Performance:  1.1169046955027344\n",
      "\t\tGenerating predictions Complete !\n",
      "\t\tOrganizing data for Blender Complete !\n",
      "\t\tDetermination for Blender Algorithm Complete !\n",
      "\t\tBlender Training Complete !\n",
      "\tRidge Performance:  1.1741878518117768\n",
      "2 Cross Validation started\n",
      "\tData Perparation Completed\n",
      "\t\t1 training started: {'n_factors': 5, 'n_epochs': 5, 'reg_all': 0.02}\n",
      "\t\tRMSE=  1.1245516997625218\n",
      "\t\t2 training started: {'n_factors': 8, 'n_epochs': 8, 'reg_all': 0.02}\n",
      "\t\tRMSE=  1.114315024788809\n",
      "\t\t3 training started: {'n_factors': 10, 'n_epochs': 10, 'reg_all': 0.02}\n",
      "\t\tRMSE=  1.110088286944349\n",
      "\tPreparing data for Blender Completed\n",
      "\t\tGenerating predictions Complete !\n",
      "\t\tOrganizing data for Blender Complete !\n",
      "\t\tDetermination for Blender Algorithm Complete !\n",
      "\t\tBlender Training Complete !\n",
      "\tSGD Performance:  1.1164789367280334\n",
      "\t\tGenerating predictions Complete !\n",
      "\t\tOrganizing data for Blender Complete !\n",
      "\t\tDetermination for Blender Algorithm Complete !\n",
      "\t\tBlender Training Complete !\n",
      "\tRidge Performance:  1.1741878518117768\n",
      "3 Cross Validation started\n",
      "\tData Perparation Completed\n",
      "\t\t1 training started: {'n_factors': 5, 'n_epochs': 5, 'reg_all': 0.02}\n",
      "\t\tRMSE=  1.1244656401216089\n",
      "\t\t2 training started: {'n_factors': 8, 'n_epochs': 8, 'reg_all': 0.02}\n",
      "\t\tRMSE=  1.1142476169771305\n",
      "\t\t3 training started: {'n_factors': 10, 'n_epochs': 10, 'reg_all': 0.02}\n",
      "\t\tRMSE=  1.1099511781775675\n",
      "\tPreparing data for Blender Completed\n",
      "\t\tGenerating predictions Complete !\n",
      "\t\tOrganizing data for Blender Complete !\n",
      "\t\tDetermination for Blender Algorithm Complete !\n",
      "\t\tBlender Training Complete !\n",
      "\tSGD Performance:  1.1160174962216745\n",
      "\t\tGenerating predictions Complete !\n",
      "\t\tOrganizing data for Blender Complete !\n",
      "\t\tDetermination for Blender Algorithm Complete !\n",
      "\t\tBlender Training Complete !\n",
      "\tRidge Performance:  1.1741878518117768\n",
      "4 Cross Validation started\n",
      "\tData Perparation Completed\n",
      "\t\t1 training started: {'n_factors': 5, 'n_epochs': 5, 'reg_all': 0.02}\n",
      "\t\tRMSE=  1.124518455212296\n",
      "\t\t2 training started: {'n_factors': 8, 'n_epochs': 8, 'reg_all': 0.02}\n",
      "\t\tRMSE=  1.1142124971701168\n",
      "\t\t3 training started: {'n_factors': 10, 'n_epochs': 10, 'reg_all': 0.02}\n",
      "\t\tRMSE=  1.1100313913904156\n",
      "\tPreparing data for Blender Completed\n",
      "\t\tGenerating predictions Complete !\n",
      "\t\tOrganizing data for Blender Complete !\n",
      "\t\tDetermination for Blender Algorithm Complete !\n",
      "\t\tBlender Training Complete !\n",
      "\tSGD Performance:  1.1199607974728034\n",
      "\t\tGenerating predictions Complete !\n",
      "\t\tOrganizing data for Blender Complete !\n",
      "\t\tDetermination for Blender Algorithm Complete !\n",
      "\t\tBlender Training Complete !\n",
      "\tRidge Performance:  1.1741878518117768\n",
      "5 Cross Validation started\n",
      "\tData Perparation Completed\n",
      "\t\t1 training started: {'n_factors': 5, 'n_epochs': 5, 'reg_all': 0.02}\n",
      "\t\tRMSE=  1.1245118046662328\n",
      "\t\t2 training started: {'n_factors': 8, 'n_epochs': 8, 'reg_all': 0.02}\n",
      "\t\tRMSE=  1.11426563416739\n",
      "\t\t3 training started: {'n_factors': 10, 'n_epochs': 10, 'reg_all': 0.02}\n",
      "\t\tRMSE=  1.1099878772812752\n",
      "\tPreparing data for Blender Completed\n",
      "\t\tGenerating predictions Complete !\n",
      "\t\tOrganizing data for Blender Complete !\n",
      "\t\tDetermination for Blender Algorithm Complete !\n",
      "\t\tBlender Training Complete !\n",
      "\tSGD Performance:  1.1313118467717982\n",
      "\t\tGenerating predictions Complete !\n",
      "\t\tOrganizing data for Blender Complete !\n",
      "\t\tDetermination for Blender Algorithm Complete !\n",
      "\t\tBlender Training Complete !\n",
      "\tRidge Performance:  1.1741878518117768\n"
     ]
    }
   ],
   "source": [
    "# Experiment 2\n",
    "algorithms = [SVDpp, SVDpp, SVDpp]\n",
    "hparams = [\n",
    "    {\n",
    "        \"n_factors\": 5,\n",
    "        \"n_epochs\": 5,\n",
    "        \"reg_all\": 0.02\n",
    "    },\n",
    "    {\n",
    "        \"n_factors\": 8,\n",
    "        \"n_epochs\": 8,\n",
    "        \"reg_all\": 0.02\n",
    "    },\n",
    "    {\n",
    "        \"n_factors\": 10,\n",
    "        \"n_epochs\": 10,\n",
    "        \"reg_all\": 0.02\n",
    "    }\n",
    "]\n",
    "individual_performances2, sgd_performances2, ridge_performances2 = CV(5, algorithms, hparams)"
   ]
  },
  {
   "cell_type": "code",
   "execution_count": 19,
   "metadata": {},
   "outputs": [
    {
     "name": "stdout",
     "output_type": "stream",
     "text": [
      "1 Cross Validation started\n",
      "\tData Perparation Completed\n",
      "\t\t1 training started: {'n_factors': 10, 'n_epochs': 10}\n",
      "\t\tRMSE=  1.5185257851454943\n",
      "\t\t2 training started: {'n_factors': 12, 'n_epochs': 12}\n",
      "\t\tRMSE=  1.3638600580641418\n",
      "\t\t3 training started: {'n_factors': 15, 'n_epochs': 15}\n",
      "\t\tRMSE=  1.2337511402982344\n",
      "\tPreparing data for Blender Completed\n",
      "\t\tGenerating predictions Complete !\n",
      "\t\tOrganizing data for Blender Complete !\n",
      "\t\tDetermination for Blender Algorithm Complete !\n",
      "\t\tBlender Training Complete !\n",
      "\tSGD Performance:  1.2804238182791376\n",
      "\t\tGenerating predictions Complete !\n",
      "\t\tOrganizing data for Blender Complete !\n",
      "\t\tDetermination for Blender Algorithm Complete !\n",
      "\t\tBlender Training Complete !\n",
      "\tRidge Performance:  1.1741878518117768\n",
      "2 Cross Validation started\n",
      "\tData Perparation Completed\n",
      "\t\t1 training started: {'n_factors': 10, 'n_epochs': 10}\n",
      "\t\tRMSE=  1.519312116022866\n",
      "\t\t2 training started: {'n_factors': 12, 'n_epochs': 12}\n",
      "\t\tRMSE=  1.364032546239703\n",
      "\t\t3 training started: {'n_factors': 15, 'n_epochs': 15}\n",
      "\t\tRMSE=  1.2340447258960567\n",
      "\tPreparing data for Blender Completed\n",
      "\t\tGenerating predictions Complete !\n",
      "\t\tOrganizing data for Blender Complete !\n",
      "\t\tDetermination for Blender Algorithm Complete !\n",
      "\t\tBlender Training Complete !\n",
      "\tSGD Performance:  1.2945522404775562\n",
      "\t\tGenerating predictions Complete !\n",
      "\t\tOrganizing data for Blender Complete !\n",
      "\t\tDetermination for Blender Algorithm Complete !\n",
      "\t\tBlender Training Complete !\n",
      "\tRidge Performance:  1.1741878518117768\n",
      "3 Cross Validation started\n",
      "\tData Perparation Completed\n",
      "\t\t1 training started: {'n_factors': 10, 'n_epochs': 10}\n",
      "\t\tRMSE=  1.5193166558727662\n",
      "\t\t2 training started: {'n_factors': 12, 'n_epochs': 12}\n",
      "\t\tRMSE=  1.3646042879186935\n",
      "\t\t3 training started: {'n_factors': 15, 'n_epochs': 15}\n",
      "\t\tRMSE=  1.2344316461693057\n",
      "\tPreparing data for Blender Completed\n",
      "\t\tGenerating predictions Complete !\n",
      "\t\tOrganizing data for Blender Complete !\n",
      "\t\tDetermination for Blender Algorithm Complete !\n",
      "\t\tBlender Training Complete !\n",
      "\tSGD Performance:  1.2977206496963432\n",
      "\t\tGenerating predictions Complete !\n",
      "\t\tOrganizing data for Blender Complete !\n",
      "\t\tDetermination for Blender Algorithm Complete !\n",
      "\t\tBlender Training Complete !\n",
      "\tRidge Performance:  1.1741878518117768\n",
      "4 Cross Validation started\n",
      "\tData Perparation Completed\n",
      "\t\t1 training started: {'n_factors': 10, 'n_epochs': 10}\n",
      "\t\tRMSE=  1.5184722817991945\n",
      "\t\t2 training started: {'n_factors': 12, 'n_epochs': 12}\n",
      "\t\tRMSE=  1.3639234840049097\n",
      "\t\t3 training started: {'n_factors': 15, 'n_epochs': 15}\n",
      "\t\tRMSE=  1.2341330411177147\n",
      "\tPreparing data for Blender Completed\n",
      "\t\tGenerating predictions Complete !\n",
      "\t\tOrganizing data for Blender Complete !\n",
      "\t\tDetermination for Blender Algorithm Complete !\n",
      "\t\tBlender Training Complete !\n",
      "\tSGD Performance:  1.302612444707559\n",
      "\t\tGenerating predictions Complete !\n",
      "\t\tOrganizing data for Blender Complete !\n",
      "\t\tDetermination for Blender Algorithm Complete !\n",
      "\t\tBlender Training Complete !\n",
      "\tRidge Performance:  1.1741878518117768\n",
      "5 Cross Validation started\n",
      "\tData Perparation Completed\n",
      "\t\t1 training started: {'n_factors': 10, 'n_epochs': 10}\n",
      "\t\tRMSE=  1.5195086645050455\n",
      "\t\t2 training started: {'n_factors': 12, 'n_epochs': 12}\n",
      "\t\tRMSE=  1.3635906449960766\n",
      "\t\t3 training started: {'n_factors': 15, 'n_epochs': 15}\n",
      "\t\tRMSE=  1.234482936849136\n",
      "\tPreparing data for Blender Completed\n",
      "\t\tGenerating predictions Complete !\n",
      "\t\tOrganizing data for Blender Complete !\n",
      "\t\tDetermination for Blender Algorithm Complete !\n",
      "\t\tBlender Training Complete !\n",
      "\tSGD Performance:  1.31384584270454\n",
      "\t\tGenerating predictions Complete !\n",
      "\t\tOrganizing data for Blender Complete !\n",
      "\t\tDetermination for Blender Algorithm Complete !\n",
      "\t\tBlender Training Complete !\n",
      "\tRidge Performance:  1.1741878518117768\n"
     ]
    }
   ],
   "source": [
    "# Experiment 3\n",
    "algorithms = [NMF, NMF, NMF]\n",
    "hparams = [\n",
    "    {\n",
    "        \"n_factors\": 10,\n",
    "        \"n_epochs\": 10\n",
    "    },\n",
    "    {\n",
    "        \"n_factors\": 12,\n",
    "        \"n_epochs\": 12\n",
    "    },\n",
    "    {\n",
    "        \"n_factors\": 15,\n",
    "        \"n_epochs\": 15\n",
    "    }\n",
    "]\n",
    "individual_performances3, sgd_performances3, ridge_performances3 = CV(5, algorithms, hparams)"
   ]
  },
  {
   "cell_type": "code",
   "execution_count": 20,
   "metadata": {},
   "outputs": [
    {
     "data": {
      "text/plain": [
       "[[1.104128129725131, 1.116300691735627, 1.102376597370062],\n",
       " [1.1040577438034098, 1.116316200685916, 1.1024758720356753],\n",
       " [1.10406143224118, 1.116381529546661, 1.1024247604493018],\n",
       " [1.104057380690431, 1.1163140446305704, 1.102317069190215],\n",
       " [1.1040443002210418, 1.1163788074762615, 1.1023592294209819]]"
      ]
     },
     "execution_count": 20,
     "metadata": {},
     "output_type": "execute_result"
    }
   ],
   "source": [
    "# Find the best SVD, the third one\n",
    "individual_performances1"
   ]
  },
  {
   "cell_type": "code",
   "execution_count": 22,
   "metadata": {},
   "outputs": [
    {
     "data": {
      "text/plain": [
       "[[1.1245787994970402, 1.1142841810767818, 1.1099657032527241],\n",
       " [1.1245516997625218, 1.114315024788809, 1.110088286944349],\n",
       " [1.1244656401216089, 1.1142476169771305, 1.1099511781775675],\n",
       " [1.124518455212296, 1.1142124971701168, 1.1100313913904156],\n",
       " [1.1245118046662328, 1.11426563416739, 1.1099878772812752]]"
      ]
     },
     "execution_count": 22,
     "metadata": {},
     "output_type": "execute_result"
    }
   ],
   "source": [
    "# Find the best SVDpp, the third one\n",
    "individual_performances2"
   ]
  },
  {
   "cell_type": "code",
   "execution_count": 24,
   "metadata": {},
   "outputs": [
    {
     "data": {
      "text/plain": [
       "[[1.5185257851454943, 1.3638600580641418, 1.2337511402982344],\n",
       " [1.519312116022866, 1.364032546239703, 1.2340447258960567],\n",
       " [1.5193166558727662, 1.3646042879186935, 1.2344316461693057],\n",
       " [1.5184722817991945, 1.3639234840049097, 1.2341330411177147],\n",
       " [1.5195086645050455, 1.3635906449960766, 1.234482936849136]]"
      ]
     },
     "execution_count": 24,
     "metadata": {},
     "output_type": "execute_result"
    }
   ],
   "source": [
    "# Find the best NMF, the third one\n",
    "individual_performances3"
   ]
  },
  {
   "cell_type": "markdown",
   "metadata": {},
   "source": [
    "## As model gets complicated (as hyper parameters gets bigger), performance increases in this case"
   ]
  }
 ],
 "metadata": {
  "kernelspec": {
   "display_name": "cmpe256-prgm1",
   "language": "python",
   "name": "cmpe256-prgm1"
  },
  "language_info": {
   "codemirror_mode": {
    "name": "ipython",
    "version": 3
   },
   "file_extension": ".py",
   "mimetype": "text/x-python",
   "name": "python",
   "nbconvert_exporter": "python",
   "pygments_lexer": "ipython3",
   "version": "3.6.7"
  }
 },
 "nbformat": 4,
 "nbformat_minor": 4
}
