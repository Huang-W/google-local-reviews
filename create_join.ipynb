{
 "cells": [
  {
   "cell_type": "code",
   "execution_count": 1,
   "metadata": {},
   "outputs": [],
   "source": [
    "import warnings\n",
    "warnings.simplefilter(action='ignore', category=FutureWarning)\n",
    "import numpy as np\n",
    "import scipy as sp\n",
    "import pandas as pd\n",
    "import sklearn as sk\n",
    "import matplotlib as mpl\n",
    "import matplotlib.pylab as plt\n",
    "import matplotlib.font_manager as fm\n",
    "from mpl_toolkits.mplot3d import Axes3D\n",
    "import seaborn as sns\n",
    "sns.set(rc={'figure.figsize':(13.7,10.27)})\n",
    "sns.set_style(\"whitegrid\")\n",
    "sns.set_color_codes()"
   ]
  },
  {
   "cell_type": "code",
   "execution_count": 2,
   "metadata": {},
   "outputs": [],
   "source": [
    "from dask.distributed import Client\n",
    "import dask.bag as db\n",
    "import dask.dataframe as dd\n",
    "import dask\n",
    "\n",
    "from ast import literal_eval\n",
    "from collections import MutableMapping\n",
    "import dask.array as da\n",
    "# import h5py\n",
    "import os\n",
    "\n",
    "from ast import literal_eval\n",
    "from collections import MutableMapping\n",
    "\n",
    "from geopy.geocoders import Nominatim\n",
    "import reverse_geocode"
   ]
  },
  {
   "cell_type": "code",
   "execution_count": 3,
   "metadata": {},
   "outputs": [],
   "source": [
    "client = Client(n_workers=8)"
   ]
  },
  {
   "cell_type": "code",
   "execution_count": 4,
   "metadata": {},
   "outputs": [
    {
     "data": {
      "text/html": [
       "<table style=\"border: 2px solid white;\">\n",
       "<tr>\n",
       "<td style=\"vertical-align: top; border: 0px solid white\">\n",
       "<h3 style=\"text-align: left;\">Client</h3>\n",
       "<ul style=\"text-align: left; list-style: none; margin: 0; padding: 0;\">\n",
       "  <li><b>Scheduler: </b>tcp://127.0.0.1:40901</li>\n",
       "  <li><b>Dashboard: </b><a href='http://127.0.0.1:8787/status' target='_blank'>http://127.0.0.1:8787/status</a></li>\n",
       "</ul>\n",
       "</td>\n",
       "<td style=\"vertical-align: top; border: 0px solid white\">\n",
       "<h3 style=\"text-align: left;\">Cluster</h3>\n",
       "<ul style=\"text-align: left; list-style:none; margin: 0; padding: 0;\">\n",
       "  <li><b>Workers: </b>8</li>\n",
       "  <li><b>Cores: </b>16</li>\n",
       "  <li><b>Memory: </b>33.65 GB</li>\n",
       "</ul>\n",
       "</td>\n",
       "</tr>\n",
       "</table>"
      ],
      "text/plain": [
       "<Client: 'tcp://127.0.0.1:40901' processes=8 threads=16, memory=33.65 GB>"
      ]
     },
     "execution_count": 4,
     "metadata": {},
     "output_type": "execute_result"
    }
   ],
   "source": [
    "client"
   ]
  },
  {
   "cell_type": "code",
   "execution_count": 5,
   "metadata": {},
   "outputs": [],
   "source": [
    "# Place your original data-sets like\n",
    "# data/users.clean.json\n",
    "# data/places.clean.json\n",
    "# data/reviews.clean.json"
   ]
  },
  {
   "cell_type": "code",
   "execution_count": 6,
   "metadata": {},
   "outputs": [
    {
     "data": {
      "text/plain": [
       "'data/places/*.csv'"
      ]
     },
     "execution_count": 6,
     "metadata": {},
     "output_type": "execute_result"
    }
   ],
   "source": [
    "folder_path = 'data/'\n",
    "os.path.join(folder_path, \"places\", \"*.csv\")"
   ]
  },
  {
   "cell_type": "code",
   "execution_count": 7,
   "metadata": {},
   "outputs": [],
   "source": [
    "def drop_cols(obj):\n",
    "    obj.pop('reviewerName')\n",
    "    obj.pop('reviewText')\n",
    "    obj.pop('unixReviewTime')\n",
    "    obj.pop('reviewTime')\n",
    "    \n",
    "    return obj"
   ]
  },
  {
   "cell_type": "code",
   "execution_count": 8,
   "metadata": {},
   "outputs": [],
   "source": [
    "def extract_restaurant_and_pub(obj):\n",
    "    if obj[\"categories\"]:\n",
    "        for cat in obj[\"categories\"]:\n",
    "            if \"Restaurant\" in cat or \"Pub\" in cat or \"Bar\" in cat:\n",
    "                return 1\n",
    "    return 0"
   ]
  },
  {
   "cell_type": "code",
   "execution_count": 9,
   "metadata": {},
   "outputs": [],
   "source": [
    "# # Store only restaurants reviews\n",
    "# b = db.read_text(os.path.join(folder_path, \"reviews.clean.json\"), blocksize=\"64MiB\")\n",
    "# df = b.map(literal_eval).map(drop_cols).to_dataframe().repartition(npartitions=240)\n",
    "# df[\"target\"] = df.loc[:, [\"categories\"]].apply(extract_restaurant_and_pub, axis=1)\n",
    "# df[(df[\"rating\"].notnull()) & (df[\"target\"]==1)].drop([\"target\"], axis=1).to_csv(os.path.join(folder_path, \"reviews\", \"*.csv\"), index=False)"
   ]
  },
  {
   "cell_type": "code",
   "execution_count": 9,
   "metadata": {},
   "outputs": [],
   "source": [
    "# Load dataframes\n",
    "reviews = dd.read_csv(os.path.join(folder_path, \"reviews\", \"*.csv\"), blocksize='64MiB')"
   ]
  },
  {
   "cell_type": "code",
   "execution_count": 10,
   "metadata": {},
   "outputs": [
    {
     "data": {
      "text/html": [
       "<div>\n",
       "<style scoped>\n",
       "    .dataframe tbody tr th:only-of-type {\n",
       "        vertical-align: middle;\n",
       "    }\n",
       "\n",
       "    .dataframe tbody tr th {\n",
       "        vertical-align: top;\n",
       "    }\n",
       "\n",
       "    .dataframe thead th {\n",
       "        text-align: right;\n",
       "    }\n",
       "</style>\n",
       "<table border=\"1\" class=\"dataframe\">\n",
       "  <thead>\n",
       "    <tr style=\"text-align: right;\">\n",
       "      <th></th>\n",
       "      <th>rating</th>\n",
       "      <th>categories</th>\n",
       "      <th>gPlusPlaceId</th>\n",
       "      <th>gPlusUserId</th>\n",
       "    </tr>\n",
       "  </thead>\n",
       "  <tbody>\n",
       "    <tr>\n",
       "      <th>0</th>\n",
       "      <td>4.0</td>\n",
       "      <td>['Asian Restaurant', 'Chinese Restaurant']</td>\n",
       "      <td>106591714648856494903</td>\n",
       "      <td>100000032416892623125</td>\n",
       "    </tr>\n",
       "    <tr>\n",
       "      <th>1</th>\n",
       "      <td>5.0</td>\n",
       "      <td>['European Restaurant', 'Italian Restaurant', ...</td>\n",
       "      <td>109420033090810328045</td>\n",
       "      <td>100000032416892623125</td>\n",
       "    </tr>\n",
       "    <tr>\n",
       "      <th>2</th>\n",
       "      <td>5.0</td>\n",
       "      <td>['Barbecue Restaurant']</td>\n",
       "      <td>111623070919810985923</td>\n",
       "      <td>100000032416892623125</td>\n",
       "    </tr>\n",
       "    <tr>\n",
       "      <th>3</th>\n",
       "      <td>4.0</td>\n",
       "      <td>['Restaurant']</td>\n",
       "      <td>113854191152597312098</td>\n",
       "      <td>100000032416892623125</td>\n",
       "    </tr>\n",
       "    <tr>\n",
       "      <th>4</th>\n",
       "      <td>5.0</td>\n",
       "      <td>['Mexican Restaurant']</td>\n",
       "      <td>115827996910815192564</td>\n",
       "      <td>100000032416892623125</td>\n",
       "    </tr>\n",
       "  </tbody>\n",
       "</table>\n",
       "</div>"
      ],
      "text/plain": [
       "   rating                                         categories  \\\n",
       "0     4.0         ['Asian Restaurant', 'Chinese Restaurant']   \n",
       "1     5.0  ['European Restaurant', 'Italian Restaurant', ...   \n",
       "2     5.0                            ['Barbecue Restaurant']   \n",
       "3     4.0                                     ['Restaurant']   \n",
       "4     5.0                             ['Mexican Restaurant']   \n",
       "\n",
       "            gPlusPlaceId            gPlusUserId  \n",
       "0  106591714648856494903  100000032416892623125  \n",
       "1  109420033090810328045  100000032416892623125  \n",
       "2  111623070919810985923  100000032416892623125  \n",
       "3  113854191152597312098  100000032416892623125  \n",
       "4  115827996910815192564  100000032416892623125  "
      ]
     },
     "execution_count": 10,
     "metadata": {},
     "output_type": "execute_result"
    }
   ],
   "source": [
    "reviews.head()"
   ]
  },
  {
   "cell_type": "code",
   "execution_count": 11,
   "metadata": {},
   "outputs": [
    {
     "data": {
      "text/plain": [
       "(4170168, 4)"
      ]
     },
     "execution_count": 11,
     "metadata": {},
     "output_type": "execute_result"
    }
   ],
   "source": [
    "reviews.compute().shape"
   ]
  },
  {
   "cell_type": "code",
   "execution_count": null,
   "metadata": {},
   "outputs": [],
   "source": []
  },
  {
   "cell_type": "code",
   "execution_count": null,
   "metadata": {},
   "outputs": [],
   "source": []
  },
  {
   "cell_type": "code",
   "execution_count": 26,
   "metadata": {},
   "outputs": [],
   "source": [
    "# # Store places\n",
    "# b = db.read_text(os.path.join(folder_path, \"places.clean.json\"), blocksize=\"64MiB\")\n",
    "# places = b.map(literal_eval).to_dataframe().dropna(subset=['gps','price', 'address']).drop(columns=['name','hours','phone','closed'])\n",
    "# places[\"place_latitude\"] = places[\"gps\"].apply(lambda x: x[0])\n",
    "# places[\"place_longitude\"] = places[\"gps\"].apply(lambda x: x[1])\n",
    "# places = places.drop([\"gps\"], axis=1)\n",
    "# places.repartition(npartitions=240).to_csv(os.path.join(folder_path, \"places\", \"*.csv\"), index=False)"
   ]
  },
  {
   "cell_type": "code",
   "execution_count": 12,
   "metadata": {},
   "outputs": [],
   "source": [
    "# Load places\n",
    "places = dd.read_csv(os.path.join(folder_path, \"places\", \"*.csv\"), blocksize='64MiB')"
   ]
  },
  {
   "cell_type": "code",
   "execution_count": 13,
   "metadata": {},
   "outputs": [
    {
     "data": {
      "text/plain": [
       "(402731, 5)"
      ]
     },
     "execution_count": 13,
     "metadata": {},
     "output_type": "execute_result"
    }
   ],
   "source": [
    "places.compute().shape"
   ]
  },
  {
   "cell_type": "code",
   "execution_count": null,
   "metadata": {},
   "outputs": [],
   "source": []
  },
  {
   "cell_type": "code",
   "execution_count": null,
   "metadata": {},
   "outputs": [],
   "source": []
  },
  {
   "cell_type": "code",
   "execution_count": 14,
   "metadata": {},
   "outputs": [],
   "source": [
    "def drop_cols(obj):\n",
    "    print(obj.items())\n",
    "    obj.pop('jobs')\n",
    "#     obj.pop('currentPlace')\n",
    "    obj.pop('previousPlaces')\n",
    "    obj.pop('education')\n",
    "    return obj\n",
    "def has_cordinates(obj):\n",
    "    return obj['cordinates'] is not None"
   ]
  },
  {
   "cell_type": "code",
   "execution_count": 15,
   "metadata": {},
   "outputs": [],
   "source": [
    "def get_cordinates(row):\n",
    "#     print(\"getcordinates\")\n",
    "    currentPlace=row[\"currentPlace\"]\n",
    "    output = None\n",
    "    try:\n",
    "        cordinates = currentPlace[1][1:3]\n",
    "        lon = int(cordinates[1])/10000000\n",
    "        lat = int(cordinates[0])/10000000\n",
    "        output = (lat, lon)\n",
    "    except Exception as e:\n",
    "        pass\n",
    "    return output"
   ]
  },
  {
   "cell_type": "code",
   "execution_count": 16,
   "metadata": {},
   "outputs": [],
   "source": [
    "def get_country(row):\n",
    "    cordinates = row['Cordinates']\n",
    "    country = None\n",
    "    if cordinates:\n",
    "        try:\n",
    "            raw_location = reverse_geocode.search([cordinates])\n",
    "            country = raw_location[0].get('country')\n",
    "        except Exception as e:\n",
    "            pass\n",
    "    return country"
   ]
  },
  {
   "cell_type": "code",
   "execution_count": 17,
   "metadata": {},
   "outputs": [],
   "source": [
    "# # Store Users\n",
    "# b = db.read_text(os.path.join(folder_path, \"users.clean.json\"), blocksize=\"64MiB\")\n",
    "# df = b.map(eval).map(drop_cols).to_dataframe().dropna().repartition(npartitions=240)\n",
    "# df['Cordinates'] = df.apply(get_cordinates, axis=1)\n",
    "# df['Country'] = df.apply(get_country, axis=1)\n",
    "# df = df.dropna(subset=[\"Cordinates\"])\n",
    "# df['user_latitude'] = df['Cordinates'].apply(lambda x : x[0])\n",
    "# df['user_longitude'] = df['Cordinates'].apply(lambda x : x[1])\n",
    "# df = df.drop([\"Cordinates\"], axis=1)\n",
    "# df.to_csv(os.path.join(folder_path, \"users\", \"*.csv\"), index=False)"
   ]
  },
  {
   "cell_type": "code",
   "execution_count": 36,
   "metadata": {},
   "outputs": [],
   "source": [
    "# Load Users\n",
    "users = dd.read_csv(os.path.join(folder_path, \"users\", \"*.csv\"), blocksize='64MiB')"
   ]
  },
  {
   "cell_type": "code",
   "execution_count": 39,
   "metadata": {},
   "outputs": [
    {
     "data": {
      "text/html": [
       "<div>\n",
       "<style scoped>\n",
       "    .dataframe tbody tr th:only-of-type {\n",
       "        vertical-align: middle;\n",
       "    }\n",
       "\n",
       "    .dataframe tbody tr th {\n",
       "        vertical-align: top;\n",
       "    }\n",
       "\n",
       "    .dataframe thead th {\n",
       "        text-align: right;\n",
       "    }\n",
       "</style>\n",
       "<table border=\"1\" class=\"dataframe\">\n",
       "  <thead>\n",
       "    <tr style=\"text-align: right;\">\n",
       "      <th></th>\n",
       "      <th>userName</th>\n",
       "      <th>currentPlace</th>\n",
       "      <th>gPlusUserId</th>\n",
       "      <th>Country</th>\n",
       "      <th>user_latitude</th>\n",
       "      <th>user_longitude</th>\n",
       "    </tr>\n",
       "  </thead>\n",
       "  <tbody>\n",
       "    <tr>\n",
       "      <th>0</th>\n",
       "      <td>an lam</td>\n",
       "      <td>['Thành phố Hồ Chí Minh, Việt Nam', [[], 10823...</td>\n",
       "      <td>100000010817154263736</td>\n",
       "      <td>Vietnam</td>\n",
       "      <td>10.823099</td>\n",
       "      <td>106.629664</td>\n",
       "    </tr>\n",
       "    <tr>\n",
       "      <th>1</th>\n",
       "      <td>HALİL TURGUT</td>\n",
       "      <td>['Adana', [[], 370000000, 353213330, 1]]</td>\n",
       "      <td>100000013500285534661</td>\n",
       "      <td>Turkey</td>\n",
       "      <td>37.000000</td>\n",
       "      <td>35.321333</td>\n",
       "    </tr>\n",
       "    <tr>\n",
       "      <th>2</th>\n",
       "      <td>Jacquelyn Dorris</td>\n",
       "      <td>['Pomona, CA', [[], 340552270, -1177523050, 1]]</td>\n",
       "      <td>100000035085750632094</td>\n",
       "      <td>United States</td>\n",
       "      <td>34.055227</td>\n",
       "      <td>-117.752305</td>\n",
       "    </tr>\n",
       "    <tr>\n",
       "      <th>3</th>\n",
       "      <td>Aniello Prezioso</td>\n",
       "      <td>['roma', [[], 418954660, 124823240, 1]]</td>\n",
       "      <td>100000067656171981860</td>\n",
       "      <td>Holy See (Vatican City State)</td>\n",
       "      <td>41.895466</td>\n",
       "      <td>12.482324</td>\n",
       "    </tr>\n",
       "    <tr>\n",
       "      <th>4</th>\n",
       "      <td>Anne Mason</td>\n",
       "      <td>['San Francisco, CA', [[], 377751960, -1224192...</td>\n",
       "      <td>100000106576186066497</td>\n",
       "      <td>United States</td>\n",
       "      <td>37.775196</td>\n",
       "      <td>-122.419204</td>\n",
       "    </tr>\n",
       "  </tbody>\n",
       "</table>\n",
       "</div>"
      ],
      "text/plain": [
       "           userName                                       currentPlace  \\\n",
       "0            an lam  ['Thành phố Hồ Chí Minh, Việt Nam', [[], 10823...   \n",
       "1      HALİL TURGUT           ['Adana', [[], 370000000, 353213330, 1]]   \n",
       "2  Jacquelyn Dorris    ['Pomona, CA', [[], 340552270, -1177523050, 1]]   \n",
       "3  Aniello Prezioso            ['roma', [[], 418954660, 124823240, 1]]   \n",
       "4        Anne Mason  ['San Francisco, CA', [[], 377751960, -1224192...   \n",
       "\n",
       "             gPlusUserId                        Country  user_latitude  \\\n",
       "0  100000010817154263736                        Vietnam      10.823099   \n",
       "1  100000013500285534661                         Turkey      37.000000   \n",
       "2  100000035085750632094                  United States      34.055227   \n",
       "3  100000067656171981860  Holy See (Vatican City State)      41.895466   \n",
       "4  100000106576186066497                  United States      37.775196   \n",
       "\n",
       "   user_longitude  \n",
       "0      106.629664  \n",
       "1       35.321333  \n",
       "2     -117.752305  \n",
       "3       12.482324  \n",
       "4     -122.419204  "
      ]
     },
     "execution_count": 39,
     "metadata": {},
     "output_type": "execute_result"
    }
   ],
   "source": [
    "users.head()"
   ]
  },
  {
   "cell_type": "code",
   "execution_count": 40,
   "metadata": {},
   "outputs": [
    {
     "data": {
      "text/plain": [
       "(737639, 6)"
      ]
     },
     "execution_count": 40,
     "metadata": {},
     "output_type": "execute_result"
    }
   ],
   "source": [
    "users.compute().shape"
   ]
  },
  {
   "cell_type": "code",
   "execution_count": null,
   "metadata": {},
   "outputs": [],
   "source": []
  },
  {
   "cell_type": "code",
   "execution_count": 41,
   "metadata": {},
   "outputs": [
    {
     "data": {
      "text/html": [
       "<div>\n",
       "<style scoped>\n",
       "    .dataframe tbody tr th:only-of-type {\n",
       "        vertical-align: middle;\n",
       "    }\n",
       "\n",
       "    .dataframe tbody tr th {\n",
       "        vertical-align: top;\n",
       "    }\n",
       "\n",
       "    .dataframe thead th {\n",
       "        text-align: right;\n",
       "    }\n",
       "</style>\n",
       "<table border=\"1\" class=\"dataframe\">\n",
       "  <thead>\n",
       "    <tr style=\"text-align: right;\">\n",
       "      <th></th>\n",
       "      <th>rating</th>\n",
       "      <th>categories</th>\n",
       "      <th>gPlusPlaceId</th>\n",
       "      <th>gPlusUserId</th>\n",
       "      <th>userName</th>\n",
       "      <th>currentPlace</th>\n",
       "      <th>Country</th>\n",
       "      <th>user_latitude</th>\n",
       "      <th>user_longitude</th>\n",
       "    </tr>\n",
       "  </thead>\n",
       "  <tbody>\n",
       "    <tr>\n",
       "      <th>0</th>\n",
       "      <td>5.0</td>\n",
       "      <td>['Thai Restaurant']</td>\n",
       "      <td>114263029861010899805</td>\n",
       "      <td>100038613745610076891</td>\n",
       "      <td>James Williams</td>\n",
       "      <td>['Spokane, Wa', [[], 476587800, -1174260470, 1]]</td>\n",
       "      <td>United States</td>\n",
       "      <td>47.658780</td>\n",
       "      <td>-117.426047</td>\n",
       "    </tr>\n",
       "    <tr>\n",
       "      <th>1</th>\n",
       "      <td>5.0</td>\n",
       "      <td>['Restaurant']</td>\n",
       "      <td>112027889074070004597</td>\n",
       "      <td>100049324721726350000</td>\n",
       "      <td>Mark Ram</td>\n",
       "      <td>['Mississauga, ON', [[], 435890450, -796441200...</td>\n",
       "      <td>Canada</td>\n",
       "      <td>43.589045</td>\n",
       "      <td>-79.644120</td>\n",
       "    </tr>\n",
       "    <tr>\n",
       "      <th>2</th>\n",
       "      <td>4.0</td>\n",
       "      <td>['Italian Restaurant', 'European Restaurant', ...</td>\n",
       "      <td>109297670713770542826</td>\n",
       "      <td>100058232515318296419</td>\n",
       "      <td>Martin Jørgensen</td>\n",
       "      <td>['Frederiksberg, Denmark', [[], 556770690, 125...</td>\n",
       "      <td>Denmark</td>\n",
       "      <td>55.677069</td>\n",
       "      <td>12.513321</td>\n",
       "    </tr>\n",
       "    <tr>\n",
       "      <th>3</th>\n",
       "      <td>4.0</td>\n",
       "      <td>['Latin American Restaurant', 'Mexican Restaur...</td>\n",
       "      <td>110719164957604789311</td>\n",
       "      <td>100068477230676623614</td>\n",
       "      <td>Greg Urick</td>\n",
       "      <td>['Carson-Tahoe, NV', [[], 391272560, -12002029...</td>\n",
       "      <td>United States</td>\n",
       "      <td>39.127256</td>\n",
       "      <td>-120.020296</td>\n",
       "    </tr>\n",
       "    <tr>\n",
       "      <th>4</th>\n",
       "      <td>4.0</td>\n",
       "      <td>['Restaurant', 'Travel']</td>\n",
       "      <td>105539154444992983581</td>\n",
       "      <td>100080606446951932523</td>\n",
       "      <td>RUSSELL CHERRY</td>\n",
       "      <td>['Athens, GA 30606', [[], 339448440, -83432338...</td>\n",
       "      <td>United States</td>\n",
       "      <td>33.944844</td>\n",
       "      <td>-83.432338</td>\n",
       "    </tr>\n",
       "  </tbody>\n",
       "</table>\n",
       "</div>"
      ],
      "text/plain": [
       "   rating                                         categories  \\\n",
       "0     5.0                                ['Thai Restaurant']   \n",
       "1     5.0                                     ['Restaurant']   \n",
       "2     4.0  ['Italian Restaurant', 'European Restaurant', ...   \n",
       "3     4.0  ['Latin American Restaurant', 'Mexican Restaur...   \n",
       "4     4.0                           ['Restaurant', 'Travel']   \n",
       "\n",
       "            gPlusPlaceId            gPlusUserId          userName  \\\n",
       "0  114263029861010899805  100038613745610076891    James Williams   \n",
       "1  112027889074070004597  100049324721726350000          Mark Ram   \n",
       "2  109297670713770542826  100058232515318296419  Martin Jørgensen   \n",
       "3  110719164957604789311  100068477230676623614        Greg Urick   \n",
       "4  105539154444992983581  100080606446951932523    RUSSELL CHERRY   \n",
       "\n",
       "                                        currentPlace        Country  \\\n",
       "0   ['Spokane, Wa', [[], 476587800, -1174260470, 1]]  United States   \n",
       "1  ['Mississauga, ON', [[], 435890450, -796441200...         Canada   \n",
       "2  ['Frederiksberg, Denmark', [[], 556770690, 125...        Denmark   \n",
       "3  ['Carson-Tahoe, NV', [[], 391272560, -12002029...  United States   \n",
       "4  ['Athens, GA 30606', [[], 339448440, -83432338...  United States   \n",
       "\n",
       "   user_latitude  user_longitude  \n",
       "0      47.658780     -117.426047  \n",
       "1      43.589045      -79.644120  \n",
       "2      55.677069       12.513321  \n",
       "3      39.127256     -120.020296  \n",
       "4      33.944844      -83.432338  "
      ]
     },
     "execution_count": 41,
     "metadata": {},
     "output_type": "execute_result"
    }
   ],
   "source": [
    "# Create Join\n",
    "reviews_users_join = reviews.merge(users, left_on=\"gPlusUserId\", right_on=\"gPlusUserId\")\n",
    "reviews_users_join.head()"
   ]
  },
  {
   "cell_type": "code",
   "execution_count": 42,
   "metadata": {},
   "outputs": [
    {
     "data": {
      "text/plain": [
       "(1026054, 9)"
      ]
     },
     "execution_count": 42,
     "metadata": {},
     "output_type": "execute_result"
    }
   ],
   "source": [
    "reviews_users_join.compute().shape"
   ]
  },
  {
   "cell_type": "code",
   "execution_count": 43,
   "metadata": {},
   "outputs": [
    {
     "data": {
      "text/html": [
       "<div>\n",
       "<style scoped>\n",
       "    .dataframe tbody tr th:only-of-type {\n",
       "        vertical-align: middle;\n",
       "    }\n",
       "\n",
       "    .dataframe tbody tr th {\n",
       "        vertical-align: top;\n",
       "    }\n",
       "\n",
       "    .dataframe thead th {\n",
       "        text-align: right;\n",
       "    }\n",
       "</style>\n",
       "<table border=\"1\" class=\"dataframe\">\n",
       "  <thead>\n",
       "    <tr style=\"text-align: right;\">\n",
       "      <th></th>\n",
       "      <th>rating</th>\n",
       "      <th>categories</th>\n",
       "      <th>gPlusPlaceId</th>\n",
       "      <th>gPlusUserId</th>\n",
       "      <th>userName</th>\n",
       "      <th>currentPlace</th>\n",
       "      <th>Country</th>\n",
       "      <th>user_latitude</th>\n",
       "      <th>user_longitude</th>\n",
       "      <th>price</th>\n",
       "      <th>address</th>\n",
       "      <th>place_latitude</th>\n",
       "      <th>place_longitude</th>\n",
       "    </tr>\n",
       "  </thead>\n",
       "  <tbody>\n",
       "    <tr>\n",
       "      <th>0</th>\n",
       "      <td>1.0</td>\n",
       "      <td>['Thai Restaurant', 'Asian Restaurant', 'South...</td>\n",
       "      <td>100986930027386372345</td>\n",
       "      <td>100817491644930023211</td>\n",
       "      <td>Daniel Lott</td>\n",
       "      <td>['Southcentral Louisiana', [[], 300793120, -90...</td>\n",
       "      <td>United States</td>\n",
       "      <td>30.079312</td>\n",
       "      <td>-90.567878</td>\n",
       "      <td>$</td>\n",
       "      <td>['4335 Perkins Rd', 'Baton Rouge, LA 70808']</td>\n",
       "      <td>30.417639</td>\n",
       "      <td>-91.145692</td>\n",
       "    </tr>\n",
       "    <tr>\n",
       "      <th>1</th>\n",
       "      <td>4.0</td>\n",
       "      <td>['Thai Restaurant', 'Asian Restaurant', 'South...</td>\n",
       "      <td>100986930027386372345</td>\n",
       "      <td>108477879612577186121</td>\n",
       "      <td>Randall Godso</td>\n",
       "      <td>['Baton Rouge, LA', [[], 304507460, -911545510...</td>\n",
       "      <td>United States</td>\n",
       "      <td>30.450746</td>\n",
       "      <td>-91.154551</td>\n",
       "      <td>$</td>\n",
       "      <td>['4335 Perkins Rd', 'Baton Rouge, LA 70808']</td>\n",
       "      <td>30.417639</td>\n",
       "      <td>-91.145692</td>\n",
       "    </tr>\n",
       "    <tr>\n",
       "      <th>2</th>\n",
       "      <td>1.0</td>\n",
       "      <td>['Thai Restaurant', 'Asian Restaurant', 'South...</td>\n",
       "      <td>100986930027386372345</td>\n",
       "      <td>107244184518329135590</td>\n",
       "      <td>Bradley Lynch</td>\n",
       "      <td>['Baton Rouge, LA', [[], 304582830, -911403200...</td>\n",
       "      <td>United States</td>\n",
       "      <td>30.458283</td>\n",
       "      <td>-91.140320</td>\n",
       "      <td>$</td>\n",
       "      <td>['4335 Perkins Rd', 'Baton Rouge, LA 70808']</td>\n",
       "      <td>30.417639</td>\n",
       "      <td>-91.145692</td>\n",
       "    </tr>\n",
       "    <tr>\n",
       "      <th>3</th>\n",
       "      <td>5.0</td>\n",
       "      <td>['Thai Restaurant', 'Asian Restaurant', 'South...</td>\n",
       "      <td>100986930027386372345</td>\n",
       "      <td>102984966038548477374</td>\n",
       "      <td>Stephen Hawkins</td>\n",
       "      <td>['New Orleans', [[], 299510660, -900715320, 1]]</td>\n",
       "      <td>United States</td>\n",
       "      <td>29.951066</td>\n",
       "      <td>-90.071532</td>\n",
       "      <td>$</td>\n",
       "      <td>['4335 Perkins Rd', 'Baton Rouge, LA 70808']</td>\n",
       "      <td>30.417639</td>\n",
       "      <td>-91.145692</td>\n",
       "    </tr>\n",
       "    <tr>\n",
       "      <th>4</th>\n",
       "      <td>4.0</td>\n",
       "      <td>['Steak House', 'European Restaurant', 'Italia...</td>\n",
       "      <td>114437509036704314647</td>\n",
       "      <td>102397052073935758476</td>\n",
       "      <td>Kelly Fee</td>\n",
       "      <td>['San Francisco, CA', [[], 377749300, -1224194...</td>\n",
       "      <td>United States</td>\n",
       "      <td>37.774930</td>\n",
       "      <td>-122.419416</td>\n",
       "      <td>$</td>\n",
       "      <td>['5700 S Cicero Ave', 'Chicago, IL 60638']</td>\n",
       "      <td>41.788477</td>\n",
       "      <td>-87.742125</td>\n",
       "    </tr>\n",
       "  </tbody>\n",
       "</table>\n",
       "</div>"
      ],
      "text/plain": [
       "   rating                                         categories  \\\n",
       "0     1.0  ['Thai Restaurant', 'Asian Restaurant', 'South...   \n",
       "1     4.0  ['Thai Restaurant', 'Asian Restaurant', 'South...   \n",
       "2     1.0  ['Thai Restaurant', 'Asian Restaurant', 'South...   \n",
       "3     5.0  ['Thai Restaurant', 'Asian Restaurant', 'South...   \n",
       "4     4.0  ['Steak House', 'European Restaurant', 'Italia...   \n",
       "\n",
       "            gPlusPlaceId            gPlusUserId         userName  \\\n",
       "0  100986930027386372345  100817491644930023211      Daniel Lott   \n",
       "1  100986930027386372345  108477879612577186121    Randall Godso   \n",
       "2  100986930027386372345  107244184518329135590    Bradley Lynch   \n",
       "3  100986930027386372345  102984966038548477374  Stephen Hawkins   \n",
       "4  114437509036704314647  102397052073935758476        Kelly Fee   \n",
       "\n",
       "                                        currentPlace        Country  \\\n",
       "0  ['Southcentral Louisiana', [[], 300793120, -90...  United States   \n",
       "1  ['Baton Rouge, LA', [[], 304507460, -911545510...  United States   \n",
       "2  ['Baton Rouge, LA', [[], 304582830, -911403200...  United States   \n",
       "3    ['New Orleans', [[], 299510660, -900715320, 1]]  United States   \n",
       "4  ['San Francisco, CA', [[], 377749300, -1224194...  United States   \n",
       "\n",
       "   user_latitude  user_longitude price  \\\n",
       "0      30.079312      -90.567878     $   \n",
       "1      30.450746      -91.154551     $   \n",
       "2      30.458283      -91.140320     $   \n",
       "3      29.951066      -90.071532     $   \n",
       "4      37.774930     -122.419416     $   \n",
       "\n",
       "                                        address  place_latitude  \\\n",
       "0  ['4335 Perkins Rd', 'Baton Rouge, LA 70808']       30.417639   \n",
       "1  ['4335 Perkins Rd', 'Baton Rouge, LA 70808']       30.417639   \n",
       "2  ['4335 Perkins Rd', 'Baton Rouge, LA 70808']       30.417639   \n",
       "3  ['4335 Perkins Rd', 'Baton Rouge, LA 70808']       30.417639   \n",
       "4    ['5700 S Cicero Ave', 'Chicago, IL 60638']       41.788477   \n",
       "\n",
       "   place_longitude  \n",
       "0       -91.145692  \n",
       "1       -91.145692  \n",
       "2       -91.145692  \n",
       "3       -91.145692  \n",
       "4       -87.742125  "
      ]
     },
     "execution_count": 43,
     "metadata": {},
     "output_type": "execute_result"
    }
   ],
   "source": [
    "reviews_users_places_join = reviews_users_join.merge(places, left_on=\"gPlusPlaceId\", right_on=\"gPlusPlaceId\")\n",
    "reviews_users_places_join.head()"
   ]
  },
  {
   "cell_type": "code",
   "execution_count": 44,
   "metadata": {},
   "outputs": [
    {
     "data": {
      "text/plain": [
       "(482591, 13)"
      ]
     },
     "execution_count": 44,
     "metadata": {},
     "output_type": "execute_result"
    }
   ],
   "source": [
    "reviews_users_places_join.compute().shape"
   ]
  },
  {
   "cell_type": "code",
   "execution_count": 49,
   "metadata": {},
   "outputs": [],
   "source": [
    "# reviews_users_places_join.to_csv(os.path.join(folder_path, \"join\", \"*.csv\"), index=False)"
   ]
  },
  {
   "cell_type": "code",
   "execution_count": 50,
   "metadata": {},
   "outputs": [
    {
     "data": {
      "text/html": [
       "<div>\n",
       "<style scoped>\n",
       "    .dataframe tbody tr th:only-of-type {\n",
       "        vertical-align: middle;\n",
       "    }\n",
       "\n",
       "    .dataframe tbody tr th {\n",
       "        vertical-align: top;\n",
       "    }\n",
       "\n",
       "    .dataframe thead th {\n",
       "        text-align: right;\n",
       "    }\n",
       "</style>\n",
       "<table border=\"1\" class=\"dataframe\">\n",
       "  <thead>\n",
       "    <tr style=\"text-align: right;\">\n",
       "      <th></th>\n",
       "      <th>rating</th>\n",
       "      <th>categories</th>\n",
       "      <th>gPlusPlaceId</th>\n",
       "      <th>gPlusUserId</th>\n",
       "      <th>userName</th>\n",
       "      <th>currentPlace</th>\n",
       "      <th>Country</th>\n",
       "      <th>user_latitude</th>\n",
       "      <th>user_longitude</th>\n",
       "      <th>price</th>\n",
       "      <th>address</th>\n",
       "      <th>place_latitude</th>\n",
       "      <th>place_longitude</th>\n",
       "    </tr>\n",
       "  </thead>\n",
       "  <tbody>\n",
       "    <tr>\n",
       "      <th>0</th>\n",
       "      <td>1.0</td>\n",
       "      <td>['Thai Restaurant', 'Asian Restaurant', 'South...</td>\n",
       "      <td>100986930027386372345</td>\n",
       "      <td>100817491644930023211</td>\n",
       "      <td>Daniel Lott</td>\n",
       "      <td>['Southcentral Louisiana', [[], 300793120, -90...</td>\n",
       "      <td>United States</td>\n",
       "      <td>30.079312</td>\n",
       "      <td>-90.567878</td>\n",
       "      <td>$</td>\n",
       "      <td>['4335 Perkins Rd', 'Baton Rouge, LA 70808']</td>\n",
       "      <td>30.417639</td>\n",
       "      <td>-91.145692</td>\n",
       "    </tr>\n",
       "    <tr>\n",
       "      <th>1</th>\n",
       "      <td>4.0</td>\n",
       "      <td>['Thai Restaurant', 'Asian Restaurant', 'South...</td>\n",
       "      <td>100986930027386372345</td>\n",
       "      <td>108477879612577186121</td>\n",
       "      <td>Randall Godso</td>\n",
       "      <td>['Baton Rouge, LA', [[], 304507460, -911545510...</td>\n",
       "      <td>United States</td>\n",
       "      <td>30.450746</td>\n",
       "      <td>-91.154551</td>\n",
       "      <td>$</td>\n",
       "      <td>['4335 Perkins Rd', 'Baton Rouge, LA 70808']</td>\n",
       "      <td>30.417639</td>\n",
       "      <td>-91.145692</td>\n",
       "    </tr>\n",
       "    <tr>\n",
       "      <th>2</th>\n",
       "      <td>1.0</td>\n",
       "      <td>['Thai Restaurant', 'Asian Restaurant', 'South...</td>\n",
       "      <td>100986930027386372345</td>\n",
       "      <td>107244184518329135590</td>\n",
       "      <td>Bradley Lynch</td>\n",
       "      <td>['Baton Rouge, LA', [[], 304582830, -911403200...</td>\n",
       "      <td>United States</td>\n",
       "      <td>30.458283</td>\n",
       "      <td>-91.140320</td>\n",
       "      <td>$</td>\n",
       "      <td>['4335 Perkins Rd', 'Baton Rouge, LA 70808']</td>\n",
       "      <td>30.417639</td>\n",
       "      <td>-91.145692</td>\n",
       "    </tr>\n",
       "    <tr>\n",
       "      <th>3</th>\n",
       "      <td>5.0</td>\n",
       "      <td>['Thai Restaurant', 'Asian Restaurant', 'South...</td>\n",
       "      <td>100986930027386372345</td>\n",
       "      <td>102984966038548477374</td>\n",
       "      <td>Stephen Hawkins</td>\n",
       "      <td>['New Orleans', [[], 299510660, -900715320, 1]]</td>\n",
       "      <td>United States</td>\n",
       "      <td>29.951066</td>\n",
       "      <td>-90.071532</td>\n",
       "      <td>$</td>\n",
       "      <td>['4335 Perkins Rd', 'Baton Rouge, LA 70808']</td>\n",
       "      <td>30.417639</td>\n",
       "      <td>-91.145692</td>\n",
       "    </tr>\n",
       "    <tr>\n",
       "      <th>4</th>\n",
       "      <td>4.0</td>\n",
       "      <td>['Steak House', 'European Restaurant', 'Italia...</td>\n",
       "      <td>114437509036704314647</td>\n",
       "      <td>102397052073935758476</td>\n",
       "      <td>Kelly Fee</td>\n",
       "      <td>['San Francisco, CA', [[], 377749300, -1224194...</td>\n",
       "      <td>United States</td>\n",
       "      <td>37.774930</td>\n",
       "      <td>-122.419416</td>\n",
       "      <td>$</td>\n",
       "      <td>['5700 S Cicero Ave', 'Chicago, IL 60638']</td>\n",
       "      <td>41.788477</td>\n",
       "      <td>-87.742125</td>\n",
       "    </tr>\n",
       "  </tbody>\n",
       "</table>\n",
       "</div>"
      ],
      "text/plain": [
       "   rating                                         categories  \\\n",
       "0     1.0  ['Thai Restaurant', 'Asian Restaurant', 'South...   \n",
       "1     4.0  ['Thai Restaurant', 'Asian Restaurant', 'South...   \n",
       "2     1.0  ['Thai Restaurant', 'Asian Restaurant', 'South...   \n",
       "3     5.0  ['Thai Restaurant', 'Asian Restaurant', 'South...   \n",
       "4     4.0  ['Steak House', 'European Restaurant', 'Italia...   \n",
       "\n",
       "            gPlusPlaceId            gPlusUserId         userName  \\\n",
       "0  100986930027386372345  100817491644930023211      Daniel Lott   \n",
       "1  100986930027386372345  108477879612577186121    Randall Godso   \n",
       "2  100986930027386372345  107244184518329135590    Bradley Lynch   \n",
       "3  100986930027386372345  102984966038548477374  Stephen Hawkins   \n",
       "4  114437509036704314647  102397052073935758476        Kelly Fee   \n",
       "\n",
       "                                        currentPlace        Country  \\\n",
       "0  ['Southcentral Louisiana', [[], 300793120, -90...  United States   \n",
       "1  ['Baton Rouge, LA', [[], 304507460, -911545510...  United States   \n",
       "2  ['Baton Rouge, LA', [[], 304582830, -911403200...  United States   \n",
       "3    ['New Orleans', [[], 299510660, -900715320, 1]]  United States   \n",
       "4  ['San Francisco, CA', [[], 377749300, -1224194...  United States   \n",
       "\n",
       "   user_latitude  user_longitude price  \\\n",
       "0      30.079312      -90.567878     $   \n",
       "1      30.450746      -91.154551     $   \n",
       "2      30.458283      -91.140320     $   \n",
       "3      29.951066      -90.071532     $   \n",
       "4      37.774930     -122.419416     $   \n",
       "\n",
       "                                        address  place_latitude  \\\n",
       "0  ['4335 Perkins Rd', 'Baton Rouge, LA 70808']       30.417639   \n",
       "1  ['4335 Perkins Rd', 'Baton Rouge, LA 70808']       30.417639   \n",
       "2  ['4335 Perkins Rd', 'Baton Rouge, LA 70808']       30.417639   \n",
       "3  ['4335 Perkins Rd', 'Baton Rouge, LA 70808']       30.417639   \n",
       "4    ['5700 S Cicero Ave', 'Chicago, IL 60638']       41.788477   \n",
       "\n",
       "   place_longitude  \n",
       "0       -91.145692  \n",
       "1       -91.145692  \n",
       "2       -91.145692  \n",
       "3       -91.145692  \n",
       "4       -87.742125  "
      ]
     },
     "execution_count": 50,
     "metadata": {},
     "output_type": "execute_result"
    }
   ],
   "source": [
    "join_data = dd.read_csv(os.path.join(folder_path, \"join\", \"*.csv\"), blocksize='64MiB')\n",
    "join_data.head()"
   ]
  },
  {
   "cell_type": "code",
   "execution_count": 51,
   "metadata": {},
   "outputs": [
    {
     "data": {
      "text/plain": [
       "(482591, 13)"
      ]
     },
     "execution_count": 51,
     "metadata": {},
     "output_type": "execute_result"
    }
   ],
   "source": [
    "join_data.compute().shape"
   ]
  },
  {
   "cell_type": "code",
   "execution_count": null,
   "metadata": {},
   "outputs": [],
   "source": []
  }
 ],
 "metadata": {
  "kernelspec": {
   "display_name": "cmpe256-team4",
   "language": "python",
   "name": "cmpe256-team4"
  },
  "language_info": {
   "codemirror_mode": {
    "name": "ipython",
    "version": 3
   },
   "file_extension": ".py",
   "mimetype": "text/x-python",
   "name": "python",
   "nbconvert_exporter": "python",
   "pygments_lexer": "ipython3",
   "version": "3.6.9"
  }
 },
 "nbformat": 4,
 "nbformat_minor": 4
}
