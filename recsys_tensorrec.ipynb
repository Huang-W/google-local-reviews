{
 "cells": [
  {
   "cell_type": "code",
   "execution_count": 7,
   "metadata": {},
   "outputs": [],
   "source": [
    "from collections import defaultdict\n",
    "import csv\n",
    "import numpy\n",
    "import random\n",
    "from scipy import sparse\n",
    "from sklearn.preprocessing import MultiLabelBinarizer"
   ]
  },
  {
   "cell_type": "code",
   "execution_count": 8,
   "metadata": {},
   "outputs": [],
   "source": [
    "import tensorrec\n",
    "\n",
    "import logging\n",
    "logging.getLogger().setLevel(logging.INFO)"
   ]
  },
  {
   "cell_type": "code",
   "execution_count": 9,
   "metadata": {},
   "outputs": [
    {
     "name": "stdout",
     "output_type": "stream",
     "text": [
      "Loading ratings\n"
     ]
    }
   ],
   "source": [
    "# Open and read in the ratings file\n",
    "# NOTE: This expects the ratings.csv file to be in the same folder as this Python file\n",
    "# You can download the MovieLens dataset, including ratings.csv, here:\n",
    "# https://grouplens.org/datasets/movielens/\n",
    "print('Loading ratings')\n",
    "with open('data/ratings.csv', 'r') as ratings_file:\n",
    "    ratings_file_reader = csv.reader(ratings_file)\n",
    "    raw_ratings = list(ratings_file_reader)\n",
    "    raw_ratings_header = raw_ratings.pop(0)"
   ]
  },
  {
   "cell_type": "code",
   "execution_count": 10,
   "metadata": {},
   "outputs": [],
   "source": [
    "# Iterate through the input to map MovieLens IDs to new internal IDs\n",
    "# The new internal IDs will be created by the defaultdict on insertion\n",
    "movielens_to_internal_user_ids = defaultdict(lambda: len(movielens_to_internal_user_ids))\n",
    "movielens_to_internal_item_ids = defaultdict(lambda: len(movielens_to_internal_item_ids))\n",
    "for row in raw_ratings:\n",
    "    row[0] = movielens_to_internal_user_ids[int(row[0])]\n",
    "    row[1] = movielens_to_internal_item_ids[int(row[1])]\n",
    "    row[2] = float(row[2])\n",
    "n_users = len(movielens_to_internal_user_ids)\n",
    "n_items = len(movielens_to_internal_item_ids)"
   ]
  },
  {
   "cell_type": "code",
   "execution_count": 11,
   "metadata": {},
   "outputs": [
    {
     "name": "stdout",
     "output_type": "stream",
     "text": [
      "Raw ratings example:\n",
      "['userId', 'movieId', 'rating', 'timestamp']\n",
      "[0, 0, 4.0, '964982703']\n",
      "80668 train ratings, 20168 test ratings\n"
     ]
    }
   ],
   "source": [
    "# Look at an example raw rating\n",
    "print(\"Raw ratings example:\\n{}\\n{}\".format(raw_ratings_header, raw_ratings[0]))\n",
    "\n",
    "# Shuffle the ratings and split them in to train/test sets 80%/20%\n",
    "random.shuffle(raw_ratings)  # Shuffles the list in-place\n",
    "cutoff = int(.8 * len(raw_ratings))\n",
    "train_ratings = raw_ratings[:cutoff]\n",
    "test_ratings = raw_ratings[cutoff:]\n",
    "print(\"{} train ratings, {} test ratings\".format(len(train_ratings), len(test_ratings)))"
   ]
  },
  {
   "cell_type": "code",
   "execution_count": 12,
   "metadata": {},
   "outputs": [],
   "source": [
    "# This method converts a list of (user, item, rating, time) to a sparse matrix\n",
    "def interactions_list_to_sparse_matrix(interactions):\n",
    "    users_column, items_column, ratings_column, _ = zip(*interactions)\n",
    "    return sparse.coo_matrix((ratings_column, (users_column, items_column)),\n",
    "                             shape=(n_users, n_items))"
   ]
  },
  {
   "cell_type": "code",
   "execution_count": 13,
   "metadata": {},
   "outputs": [],
   "source": [
    "# Create sparse matrices of interaction data\n",
    "sparse_train_ratings = interactions_list_to_sparse_matrix(train_ratings)\n",
    "sparse_test_ratings = interactions_list_to_sparse_matrix(test_ratings)\n",
    "\n",
    "# Construct indicator features for users and items\n",
    "user_indicator_features = sparse.identity(n_users)\n",
    "item_indicator_features = sparse.identity(n_items)"
   ]
  },
  {
   "cell_type": "code",
   "execution_count": 14,
   "metadata": {},
   "outputs": [
    {
     "name": "stdout",
     "output_type": "stream",
     "text": [
      "Training collaborative filter\n"
     ]
    },
    {
     "name": "stderr",
     "output_type": "stream",
     "text": [
      "/home/ej/github/cmpe256-team4/cmpe256-team4/lib/python3.6/site-packages/tensorflow/python/ops/gradients_util.py:93: UserWarning: Converting sparse IndexedSlices to a dense Tensor of unknown shape. This may consume a large amount of memory.\n",
      "  \"Converting sparse IndexedSlices to a dense Tensor of unknown shape. \"\n",
      "/home/ej/github/cmpe256-team4/cmpe256-team4/lib/python3.6/site-packages/tensorflow/python/ops/gradients_util.py:93: UserWarning: Converting sparse IndexedSlices to a dense Tensor of unknown shape. This may consume a large amount of memory.\n",
      "  \"Converting sparse IndexedSlices to a dense Tensor of unknown shape. \"\n"
     ]
    }
   ],
   "source": [
    "# Build a matrix factorization collaborative filter model\n",
    "cf_model = tensorrec.TensorRec(n_components=5)\n",
    "\n",
    "# Fit the collaborative filter model\n",
    "print(\"Training collaborative filter\")\n",
    "cf_model.fit(interactions=sparse_train_ratings,\n",
    "             user_features=user_indicator_features,\n",
    "             item_features=item_indicator_features)"
   ]
  },
  {
   "cell_type": "code",
   "execution_count": 15,
   "metadata": {},
   "outputs": [],
   "source": [
    "# Create sets of train/test interactions that are only ratings >= 4.0\n",
    "sparse_train_ratings_4plus = sparse_train_ratings.multiply(sparse_train_ratings >= 4.0)\n",
    "sparse_test_ratings_4plus = sparse_test_ratings.multiply(sparse_test_ratings >= 4.0)"
   ]
  },
  {
   "cell_type": "code",
   "execution_count": 17,
   "metadata": {},
   "outputs": [],
   "source": [
    "# This method consumes item ranks for each user and prints out recall@10 train/test metrics\n",
    "def check_results(ranks):\n",
    "    train_recall_at_10 = tensorrec.eval.recall_at_k(\n",
    "        test_interactions=sparse_train_ratings_4plus,\n",
    "        predicted_ranks=ranks,\n",
    "        k=10\n",
    "    ).mean()\n",
    "    test_recall_at_10 = tensorrec.eval.recall_at_k(\n",
    "        test_interactions=sparse_test_ratings_4plus,\n",
    "        predicted_ranks=ranks,\n",
    "        k=10\n",
    "    ).mean()\n",
    "    print(\"Recall at 10: Train: {:.4f} Test: {:.4f}\".format(train_recall_at_10,\n",
    "                                                            test_recall_at_10))"
   ]
  },
  {
   "cell_type": "code",
   "execution_count": 23,
   "metadata": {},
   "outputs": [
    {
     "data": {
      "text/plain": [
       "<610x610 sparse matrix of type '<class 'numpy.float64'>'\n",
       "\twith 610 stored elements (1 diagonals) in DIAgonal format>"
      ]
     },
     "execution_count": 23,
     "metadata": {},
     "output_type": "execute_result"
    }
   ],
   "source": [
    "user_indicator_features"
   ]
  },
  {
   "cell_type": "code",
   "execution_count": 18,
   "metadata": {},
   "outputs": [
    {
     "name": "stdout",
     "output_type": "stream",
     "text": [
      "Matrix factorization collaborative filter:\n",
      "Recall at 10: Train: 0.0006 Test: 0.0006\n",
      "Training collaborative filter with WMRB loss\n"
     ]
    },
    {
     "name": "stderr",
     "output_type": "stream",
     "text": [
      "/home/ej/github/cmpe256-team4/cmpe256-team4/lib/python3.6/site-packages/tensorflow/python/ops/gradients_util.py:93: UserWarning: Converting sparse IndexedSlices to a dense Tensor of unknown shape. This may consume a large amount of memory.\n",
      "  \"Converting sparse IndexedSlices to a dense Tensor of unknown shape. \"\n",
      "/home/ej/github/cmpe256-team4/cmpe256-team4/lib/python3.6/site-packages/tensorflow/python/ops/gradients_util.py:93: UserWarning: Converting sparse IndexedSlices to a dense Tensor of unknown shape. This may consume a large amount of memory.\n",
      "  \"Converting sparse IndexedSlices to a dense Tensor of unknown shape. \"\n"
     ]
    },
    {
     "name": "stdout",
     "output_type": "stream",
     "text": [
      "WMRB matrix factorization collaborative filter:\n",
      "Recall at 10: Train: 0.1092 Test: 0.0797\n"
     ]
    }
   ],
   "source": [
    "# Check the results of the MF CF model\n",
    "print(\"Matrix factorization collaborative filter:\")\n",
    "predicted_ranks = cf_model.predict_rank(user_features=user_indicator_features,\n",
    "                                        item_features=item_indicator_features)\n",
    "check_results(predicted_ranks)\n",
    "\n",
    "# Let's try a new loss function: WMRB\n",
    "print(\"Training collaborative filter with WMRB loss\")\n",
    "ranking_cf_model = tensorrec.TensorRec(n_components=5,\n",
    "                                       loss_graph=tensorrec.loss_graphs.WMRBLossGraph())\n",
    "ranking_cf_model.fit(interactions=sparse_train_ratings_4plus,\n",
    "                     user_features=user_indicator_features,\n",
    "                     item_features=item_indicator_features,\n",
    "                     n_sampled_items=int(n_items * .01))\n",
    "\n",
    "# Check the results of the WMRB MF CF model\n",
    "print(\"WMRB matrix factorization collaborative filter:\")\n",
    "predicted_ranks = ranking_cf_model.predict_rank(user_features=user_indicator_features,\n",
    "                                                item_features=item_indicator_features)\n",
    "check_results(predicted_ranks)"
   ]
  },
  {
   "cell_type": "code",
   "execution_count": 22,
   "metadata": {},
   "outputs": [
    {
     "data": {
      "text/plain": [
       "<bound method TensorRec.predict of <tensorrec.tensorrec.TensorRec object at 0x7f0d5360dac8>>"
      ]
     },
     "execution_count": 22,
     "metadata": {},
     "output_type": "execute_result"
    }
   ],
   "source": [
    "ranking_cf_model.predict"
   ]
  },
  {
   "cell_type": "code",
   "execution_count": 20,
   "metadata": {},
   "outputs": [
    {
     "name": "stdout",
     "output_type": "stream",
     "text": [
      "Loading movie metadata\n",
      "Raw metadata example:\n",
      "['movieId', 'title', 'genres']\n",
      "[0, 'Toy Story (1995)', ['Adventure', 'Animation', 'Children', 'Comedy', 'Fantasy']]\n"
     ]
    }
   ],
   "source": [
    "# To improve the recommendations, lets read in the movie genres\n",
    "print('Loading movie metadata')\n",
    "with open('data/movies.csv', 'r') as movies_file:\n",
    "    movies_file_reader = csv.reader(movies_file)\n",
    "    raw_movie_metadata = list(movies_file_reader)\n",
    "    raw_movie_metadata_header = raw_movie_metadata.pop(0)\n",
    "\n",
    "# Map the MovieLens IDs to our internal IDs and keep track of the genres and titles\n",
    "movie_genres_by_internal_id = {}\n",
    "movie_titles_by_internal_id = {}\n",
    "for row in raw_movie_metadata:\n",
    "    row[0] = movielens_to_internal_item_ids[int(row[0])]  # Map to IDs\n",
    "    row[2] = row[2].split('|')  # Split up the genres\n",
    "    movie_genres_by_internal_id[row[0]] = row[2]\n",
    "    movie_titles_by_internal_id[row[0]] = row[1]\n",
    "\n",
    "# Look at an example movie metadata row\n",
    "print(\"Raw metadata example:\\n{}\\n{}\".format(raw_movie_metadata_header,\n",
    "                                             raw_movie_metadata[0]))"
   ]
  },
  {
   "cell_type": "code",
   "execution_count": 21,
   "metadata": {},
   "outputs": [
    {
     "name": "stdout",
     "output_type": "stream",
     "text": [
      "Binarized genres example for movie Toy Story (1995):\n",
      "[0 0 1 1 1 1 0 0 0 1 0 0 0 0 0 0 0 0 0 0]\n",
      "Training content-based recommender\n"
     ]
    },
    {
     "name": "stderr",
     "output_type": "stream",
     "text": [
      "/home/ej/github/cmpe256-team4/cmpe256-team4/lib/python3.6/site-packages/tensorflow/python/ops/gradients_util.py:93: UserWarning: Converting sparse IndexedSlices to a dense Tensor of unknown shape. This may consume a large amount of memory.\n",
      "  \"Converting sparse IndexedSlices to a dense Tensor of unknown shape. \"\n",
      "/home/ej/github/cmpe256-team4/cmpe256-team4/lib/python3.6/site-packages/tensorflow/python/ops/gradients_util.py:93: UserWarning: Converting sparse IndexedSlices to a dense Tensor of unknown shape. This may consume a large amount of memory.\n",
      "  \"Converting sparse IndexedSlices to a dense Tensor of unknown shape. \"\n"
     ]
    },
    {
     "name": "stdout",
     "output_type": "stream",
     "text": [
      "Content-based recommender:\n",
      "Recall at 10: Train: 0.0498 Test: 0.0110\n",
      "Training hybrid recommender\n"
     ]
    },
    {
     "name": "stderr",
     "output_type": "stream",
     "text": [
      "/home/ej/github/cmpe256-team4/cmpe256-team4/lib/python3.6/site-packages/tensorflow/python/ops/gradients_util.py:93: UserWarning: Converting sparse IndexedSlices to a dense Tensor of unknown shape. This may consume a large amount of memory.\n",
      "  \"Converting sparse IndexedSlices to a dense Tensor of unknown shape. \"\n",
      "/home/ej/github/cmpe256-team4/cmpe256-team4/lib/python3.6/site-packages/tensorflow/python/ops/gradients_util.py:93: UserWarning: Converting sparse IndexedSlices to a dense Tensor of unknown shape. This may consume a large amount of memory.\n",
      "  \"Converting sparse IndexedSlices to a dense Tensor of unknown shape. \"\n"
     ]
    },
    {
     "name": "stdout",
     "output_type": "stream",
     "text": [
      "Hybrid recommender:\n",
      "Recall at 10: Train: 0.1221 Test: 0.0823\n",
      "User 432 liked:\n",
      "Usual Suspects, The (1995)\n",
      "Silence of the Lambs, The (1991)\n",
      "Fargo (1996)\n",
      "Reservoir Dogs (1992)\n",
      "American History X (1998)\n",
      "Shawshank Redemption, The (1994)\n",
      "Kill Bill: Vol. 1 (2003)\n",
      "Dark Knight Rises, The (2012)\n",
      "Social Network, The (2010)\n",
      "Trainspotting (1996)\n",
      "Arrival (2016)\n",
      "My Big Fat Greek Wedding (2002)\n",
      "User 432 recommendations:\n",
      "Seven (a.k.a. Se7en) (1995)\n",
      "Pulp Fiction (1994)\n",
      "Silence of the Lambs, The (1991)\n",
      "Fargo (1996)\n",
      "Shawshank Redemption, The (1994)\n",
      "Departed, The (2006)\n",
      "Godfather, The (1972)\n",
      "One Flew Over the Cuckoo's Nest (1975)\n",
      "Godfather: Part II, The (1974)\n",
      "Trainspotting (1996)\n",
      "User 432's held-out movies:\n",
      "Pulp Fiction (1994)\n",
      "Fight Club (1999)\n"
     ]
    }
   ],
   "source": [
    "# Build a list of genres where the index is the internal movie ID and\n",
    "# the value is a list of [Genre, Genre, ...]\n",
    "movie_genres = [movie_genres_by_internal_id[internal_id]\n",
    "                for internal_id in range(n_items)]\n",
    "\n",
    "# Transform the genres into binarized labels using scikit's MultiLabelBinarizer\n",
    "movie_genre_features = MultiLabelBinarizer().fit_transform(movie_genres)\n",
    "n_genres = movie_genre_features.shape[1]\n",
    "print(\"Binarized genres example for movie {}:\\n{}\".format(movie_titles_by_internal_id[0],\n",
    "                                                          movie_genre_features[0]))\n",
    "\n",
    "# Coerce the movie genre features to a sparse matrix, which TensorRec expects\n",
    "movie_genre_features = sparse.coo_matrix(movie_genre_features)\n",
    "\n",
    "# Fit a content-based model using the genres as item features\n",
    "print(\"Training content-based recommender\")\n",
    "content_model = tensorrec.TensorRec(\n",
    "    n_components=n_genres,\n",
    "    item_repr_graph=tensorrec.representation_graphs.FeaturePassThroughRepresentationGraph(),\n",
    "    loss_graph=tensorrec.loss_graphs.WMRBLossGraph()\n",
    ")\n",
    "content_model.fit(interactions=sparse_train_ratings_4plus,\n",
    "                  user_features=user_indicator_features,\n",
    "                  item_features=movie_genre_features,\n",
    "                  n_sampled_items=int(n_items * .01))\n",
    "\n",
    "# Check the results of the content-based model\n",
    "print(\"Content-based recommender:\")\n",
    "predicted_ranks = content_model.predict_rank(user_features=user_indicator_features,\n",
    "                                             item_features=movie_genre_features)\n",
    "check_results(predicted_ranks)\n",
    "\n",
    "# Try concatenating the genres on to the indicator features for a hybrid recommender system\n",
    "full_item_features = sparse.hstack([item_indicator_features, movie_genre_features])\n",
    "\n",
    "print(\"Training hybrid recommender\")\n",
    "hybrid_model = tensorrec.TensorRec(\n",
    "    n_components=5,\n",
    "    loss_graph=tensorrec.loss_graphs.WMRBLossGraph()\n",
    ")\n",
    "hybrid_model.fit(interactions=sparse_train_ratings_4plus,\n",
    "                 user_features=user_indicator_features,\n",
    "                 item_features=full_item_features,\n",
    "                 n_sampled_items=int(n_items * .01))\n",
    "\n",
    "print(\"Hybrid recommender:\")\n",
    "predicted_ranks = hybrid_model.predict_rank(user_features=user_indicator_features,\n",
    "                                            item_features=full_item_features)\n",
    "check_results(predicted_ranks)\n",
    "\n",
    "# Print out movies that User #432 has liked\n",
    "print(\"User 432 liked:\")\n",
    "for m in sparse_train_ratings_4plus[432].indices:\n",
    "    print(movie_titles_by_internal_id[m])\n",
    "\n",
    "# Pull user 432's features out of the user features matrix and predict movie ranks for just that user\n",
    "u432_features = sparse.csr_matrix(user_indicator_features)[432]\n",
    "u432_rankings = hybrid_model.predict_rank(user_features=u432_features,\n",
    "                                          item_features=full_item_features)[0]\n",
    "\n",
    "# Get internal IDs of User 432's top 10 recommendations\n",
    "# These are sorted by item ID, not by rank\n",
    "# This may contain items with which User 432 has already interacted\n",
    "u432_top_ten_recs = numpy.where(u432_rankings <= 10)[0]\n",
    "print(\"User 432 recommendations:\")\n",
    "for m in u432_top_ten_recs:\n",
    "    print(movie_titles_by_internal_id[m])\n",
    "\n",
    "# Print out User 432's held-out interactions\n",
    "print(\"User 432's held-out movies:\")\n",
    "for m in sparse_test_ratings_4plus[432].indices:\n",
    "    print(movie_titles_by_internal_id[m])"
   ]
  },
  {
   "cell_type": "code",
   "execution_count": null,
   "metadata": {},
   "outputs": [],
   "source": []
  }
 ],
 "metadata": {
  "kernelspec": {
   "display_name": "cmpe256-team4",
   "language": "python",
   "name": "cmpe256-team4"
  },
  "language_info": {
   "codemirror_mode": {
    "name": "ipython",
    "version": 3
   },
   "file_extension": ".py",
   "mimetype": "text/x-python",
   "name": "python",
   "nbconvert_exporter": "python",
   "pygments_lexer": "ipython3",
   "version": "3.6.9"
  }
 },
 "nbformat": 4,
 "nbformat_minor": 4
}
